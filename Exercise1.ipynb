{
 "cells": [
  {
   "cell_type": "code",
   "execution_count": 2,
   "metadata": {},
   "outputs": [],
   "source": [
    "#identity matrix\n",
    "\n",
    "import numpy as np\n",
    "def warmUpExercise():\n",
    "    A = []\n",
    "    A = np.eye(5)\n",
    "    return A"
   ]
  },
  {
   "cell_type": "code",
   "execution_count": 3,
   "metadata": {},
   "outputs": [
    {
     "data": {
      "text/plain": [
       "array([[1., 0., 0., 0., 0.],\n",
       "       [0., 1., 0., 0., 0.],\n",
       "       [0., 0., 1., 0., 0.],\n",
       "       [0., 0., 0., 1., 0.],\n",
       "       [0., 0., 0., 0., 1.]])"
      ]
     },
     "execution_count": 3,
     "metadata": {},
     "output_type": "execute_result"
    }
   ],
   "source": [
    "warmUpExercise()"
   ]
  },
  {
   "cell_type": "code",
   "execution_count": 3,
   "metadata": {},
   "outputs": [],
   "source": [
    "#linear regression to predict profit for food truck\n",
    "\n",
    "#read the comma seperated files\n",
    "#load the text file\n",
    "import os\n",
    "data = np.loadtxt(os.path.join(\"C:/Users/dynam/Desktop/Coursera AndrewNg/machine-learning-ex1/machine-learning-ex1/ex1/\" , \"ex1data1.txt\"),delimiter=',')\n",
    "X,y = data[:,0],data[:,1] #0th column as training and 1st column as label\n",
    "m = y.size #number of training examples"
   ]
  },
  {
   "cell_type": "code",
   "execution_count": 5,
   "metadata": {},
   "outputs": [],
   "source": [
    "#visualizing data before doig any work on it\n",
    "from matplotlib import pyplot as plt\n",
    "def plotData(X,y):\n",
    "    plt.plot(X,y,\"r.\",ms = 5, mec = 'k') #ms means marker size and mec means marker edge color\n",
    "    plt.xlabel(\"Population of city in 10,000s\")\n",
    "    plt.ylabel(\"profit in $10,000\")\n",
    "    fig = plt.figure()"
   ]
  },
  {
   "cell_type": "code",
   "execution_count": 6,
   "metadata": {},
   "outputs": [
    {
     "data": {
      "image/png": "[encoded data removed]",
      "text/plain": [
       "<Figure size 432x288 with 1 Axes>"
      ]
     },
     "metadata": {
      "needs_background": "light"
     },
     "output_type": "display_data"
    },
    {
     "data": {
      "text/plain": [
       "<Figure size 432x288 with 0 Axes>"
      ]
     },
     "metadata": {},
     "output_type": "display_data"
    }
   ],
   "source": [
    "plotData(X,y)"
   ]
  },
  {
   "cell_type": "code",
   "execution_count": 7,
   "metadata": {},
   "outputs": [],
   "source": [
    "#fitting the linear regression parameters \"theta\" to our data st using gradient descent\n",
    "\n",
    "#adding a colmn of ones denoting the \"Xo\" column to accomodate \"thetao\"\n",
    "#np.stack is used to join two arrays along a gives axis\n",
    "X = np.stack([np.ones(m),X],axis = 1)"
   ]
  },
  {
   "cell_type": "code",
   "execution_count": 70,
   "metadata": {},
   "outputs": [],
   "source": [
    "#computing the cost J(theta) of using theta as parameter for linear regression.This should be minimiszed by gradient descent to find parameters \"theta\"\n",
    "\n",
    "#X,y,theta are matrices\n",
    "#shape of X : m,(n+1)\n",
    "#shape of y : m,\n",
    "#shape of theta : (n+1),1\n",
    "def computeCost(X,y,theta):\n",
    "    m = y.size #number of training examples\n",
    "    J = 0\n",
    "    hThetaOfX = np.dot(X,theta)\n",
    "    J = (1/2*m)*(np.sum(np.square(hThetaOfX - y)))\n",
    "    return J"
   ]
  },
  {
   "cell_type": "code",
   "execution_count": 80,
   "metadata": {},
   "outputs": [
    {
     "name": "stdout",
     "output_type": "stream",
     "text": [
      "with theta = [0,0], the cost computed is 32.072733877455676\n"
     ]
    }
   ],
   "source": [
    "print(\"with theta = [0,0], the cost computed is {}\".format(computeCost(X,y,np.zeros(2))))"
   ]
  },
  {
   "cell_type": "code",
   "execution_count": 81,
   "metadata": {},
   "outputs": [
    {
     "name": "stdout",
     "output_type": "stream",
     "text": [
      "with theta = [-1,2],the cost computed is 54.24245508201238\n"
     ]
    }
   ],
   "source": [
    "print(\"with theta = [-1,2],the cost computed is {}\".format(computeCost(X,y,np.array([-1,2]))))"
   ]
  },
  {
   "cell_type": "code",
   "execution_count": 84,
   "metadata": {},
   "outputs": [
    {
     "name": "stdout",
     "output_type": "stream",
     "text": [
      "14\n",
      "[[1 2 3]]\n"
     ]
    }
   ],
   "source": [
    "#Note of numpy:\n",
    "z = np.array([1,2,3])\n",
    "print(np.dot(z,z))\n",
    "z = z[None,:]\n",
    "print(z)"
   ]
  },
  {
   "cell_type": "code",
   "execution_count": 99,
   "metadata": {},
   "outputs": [],
   "source": [
    "def gradientDescent(X,y,theta,alpha,num_iter):\n",
    "    m = y.shape[0]\n",
    "    theta = theta.copy() #make a copy so that original values arent changed\n",
    "    J_history = [] #make a list to store the history of J after every iteration\n",
    "    for i in range(num_iter):\n",
    "        dJtheta = np.dot((alpha/(m))*(np.dot(X,theta) - y),X)\n",
    "        theta = theta - dJtheta\n",
    "        J_history.append(computeCost(X,y,theta))\n",
    "    return J_history,theta   "
   ]
  },
  {
   "cell_type": "code",
   "execution_count": 100,
   "metadata": {},
   "outputs": [
    {
     "name": "stdout",
     "output_type": "stream",
     "text": [
      "theta found by gradient descent is [-3.63029144  1.16636235]\n",
      "Expected theta values (approximately): [-3.6303, 1.1664]\n"
     ]
    }
   ],
   "source": [
    "theta = np.zeros(2)\n",
    "num_iter = 1500\n",
    "alpha = 0.01\n",
    "J_history,theta = gradientDescent(X,y,theta,alpha = 0.01,num_iter = 1500)\n",
    "print(\"theta found by gradient descent is {}\".format(theta))\n",
    "print(\"Expected theta values (approximately): [-3.6303, 1.1664]\")"
   ]
  },
  {
   "cell_type": "code",
   "execution_count": 101,
   "metadata": {},
   "outputs": [
    {
     "data": {
      "text/plain": [
       "Text(0, 0.5, 'J(theta)')"
      ]
     },
     "execution_count": 101,
     "metadata": {},
     "output_type": "execute_result"
    },
    {
     "data": {
      "image/png": "[encoded data removed]",
      "text/plain": [
       "<Figure size 432x288 with 1 Axes>"
      ]
     },
     "metadata": {
      "needs_background": "light"
     },
     "output_type": "display_data"
    }
   ],
   "source": [
    "#after calculating the value of theta using gradient descent,let us see how J(theta) faired over iterations\n",
    "x = [x for x in range(1500)]\n",
    "y = J_history\n",
    "plt.plot(x,y,\"bo\")\n",
    "plt.xlabel(\"num of iterations\")\n",
    "plt.ylabel(\"J(theta)\")"
   ]
  },
  {
   "cell_type": "code",
   "execution_count": 110,
   "metadata": {},
   "outputs": [
    {
     "data": {
      "text/plain": [
       "Text(0, 0.5, 'profit')"
      ]
     },
     "execution_count": 110,
     "metadata": {},
     "output_type": "execute_result"
    },
    {
     "data": {
      "image/png": "[encoded data removed]",
      "text/plain": [
       "<Figure size 432x288 with 1 Axes>"
      ]
     },
     "metadata": {
      "needs_background": "light"
     },
     "output_type": "display_data"
    }
   ],
   "source": [
    "#now lets fit a straight line to the data\n",
    "hypothesis = np.dot(X,theta)\n",
    "plt.plot(X[:,1],data[:,1],\"r.\",ms = 5, mec = 'k')\n",
    "plt.plot(X[:,1],hypothesis)\n",
    "plt.xlabel(\"population\")\n",
    "plt.ylabel(\"profit\")"
   ]
  },
  {
   "cell_type": "code",
   "execution_count": 116,
   "metadata": {},
   "outputs": [
    {
     "name": "stdout",
     "output_type": "stream",
     "text": [
      "the new profit when the population is 35 thousand is is 4519.77\n"
     ]
    }
   ],
   "source": [
    "#now us ethe hypotheis to predict the profit fot areas with population 35,000 and 70,000\n",
    "def predict(new_population,theta):\n",
    "    new_X = [1,new_population/10000]\n",
    "    #print(new_X)\n",
    "    res = np.dot(new_X,theta)\n",
    "    return res*10000\n",
    "print(\"the new profit when the population is 35 thousand is is {:.2f}\".format(predict(35000,theta)))"
   ]
  },
  {
   "cell_type": "code",
   "execution_count": 117,
   "metadata": {},
   "outputs": [
    {
     "name": "stdout",
     "output_type": "stream",
     "text": [
      "the new profit when the population is 70 thousand is is 45342.45\n"
     ]
    }
   ],
   "source": [
    "print(\"the new profit when the population is 70 thousand is is {:.2f}\".format(predict(70000,theta)))"
   ]
  },
  {
   "cell_type": "markdown",
   "metadata": {},
   "source": [
    "Steps for Solving:\n",
    "\n",
    "1)Make Matrix X,vector y\n",
    "\n",
    "2)Then take initial values of theta\n",
    "\n",
    "3)Then compute J(theta) ie cost for it\n",
    "\n",
    "4)Then using gradient descent find the vale of theta for which the cost is minimum\n",
    "\n",
    "5)Use this to predict new data"
   ]
  },
  {
   "cell_type": "code",
   "execution_count": 72,
   "metadata": {},
   "outputs": [
    {
     "name": "stdout",
     "output_type": "stream",
     "text": [
      "47 2\n",
      "SL.NO     X[:,0]       X[:,1]       y\n",
      "SL.NO     House Size       #Bedrooms       Price\n",
      "-----------------------------------------\n",
      "0     2104.0     |    3.0   |    399900.0\n",
      "1     1600.0     |    3.0   |    329900.0\n",
      "2     2400.0     |    3.0   |    369000.0\n",
      "3     1416.0     |    2.0   |    232000.0\n",
      "4     3000.0     |    4.0   |    539900.0\n",
      "5     1985.0     |    4.0   |    299900.0\n",
      "6     1534.0     |    3.0   |    314900.0\n",
      "7     1427.0     |    3.0   |    198999.0\n",
      "8     1380.0     |    3.0   |    212000.0\n",
      "9     1494.0     |    3.0   |    242500.0\n"
     ]
    }
   ],
   "source": [
    "#linear regression with multiple variables\n",
    "\n",
    "#loading the data\n",
    "data_ex2 = np.loadtxt(os.path.join(\"C:/Users/dynam/Desktop/Coursera AndrewNg/machine-learning-ex1/machine-learning-ex1/ex1\",\"ex1data2.txt\"),delimiter=',')\n",
    "X = data_ex2[:,0:2]\n",
    "x1 = X[:,1]\n",
    "x2 = X[:,-1]\n",
    "y = data_ex2[:,2]\n",
    "\n",
    "#printout 10 examples from the data set\n",
    "print(\"SL.NO     X[:,0]       \" + \"X[:,1]       \" + \"y\")\n",
    "print(\"SL.NO     House Size       \" + \"#Bedrooms       \" + \"Price\")\n",
    "print(\"-----------------------------------------\")\n",
    "for i in range(10):\n",
    "    print(\"{}     {}     |    {}   |    {}\".format(i,X[i,0],X[i,1],y[i]))"
   ]
  },
  {
   "cell_type": "code",
   "execution_count": 71,
   "metadata": {},
   "outputs": [],
   "source": [
    "#house size is about 1000 times #Bedrooms,\n",
    "#hence as the features differ by the orders of magnitude 10^3\n",
    "#we should perform feature scaling before adding the Xo = 1 for all the rows\n",
    "\n",
    "#this is my implementation,somethings wrong,check it later\n",
    "'''def featureNormalize(X):\n",
    "    x1 = X[:,1]\n",
    "    x2 = X[:,-1] \n",
    "    x1_norm = x1.copy()\n",
    "    x2_norm = x2.copy()\n",
    "    x1_mean = np.mean(x1,axis = 0)\n",
    "    x2_mean = np.mean(x2,axis=0)\n",
    "    x1_std = np.std(x1,axis = 0)\n",
    "    x2_std = np.std(x2,axis = 0)\n",
    "    x1 -= x1_mean\n",
    "    x1 /= x1_std\n",
    "    x2 -= x2_mean\n",
    "    x2 /= x2_std\n",
    "    X_norm = np.vstack((x1,x2))\n",
    "    #mu = (x1_mean + x2_mean)/2\n",
    "    #sigma = (x1_std + x2_std)/2\n",
    "    return X_norm,[x1_mean,x2_mean],[x1_std,x2_std]'''\n",
    "\n",
    "def featureNormalize(X):\n",
    "    X_norm = X.copy()\n",
    "    mu = np.zeros(X.shape[1]) #one index for x1_mean and other index for x2_mean\n",
    "    sigma = np.zeros(X.shape[1])\n",
    "    \n",
    "    mu = np.mean(X,axis = 0) #axis = 0 means column wise\n",
    "    sigma = np.std(X,axis = 0)\n",
    "    X_norm = (X - mu) / sigma\n",
    "    return X_norm,mu,sigma"
   ]
  },
  {
   "cell_type": "code",
   "execution_count": 68,
   "metadata": {},
   "outputs": [
    {
     "name": "stdout",
     "output_type": "stream",
     "text": [
      "The computed mean is  [2000.68085106    3.17021277]\n",
      "The computed standard deviation is  [7.86202619e+02 7.52842809e-01]\n"
     ]
    }
   ],
   "source": [
    "X_norm,mu,sigma = featureNormalize(X)\n",
    "print(\"The computed mean is \",mu)\n",
    "print(\"The computed standard deviation is \",sigma)"
   ]
  },
  {
   "cell_type": "code",
   "execution_count": 76,
   "metadata": {},
   "outputs": [
    {
     "name": "stdout",
     "output_type": "stream",
     "text": [
      "[[ 1.00000000e+00  1.31415422e-01 -2.26093368e-01]\n",
      " [ 1.00000000e+00 -5.09640698e-01 -2.26093368e-01]\n",
      " [ 1.00000000e+00  5.07908699e-01 -2.26093368e-01]\n",
      " [ 1.00000000e+00 -7.43677059e-01 -1.55439190e+00]\n",
      " [ 1.00000000e+00  1.27107075e+00  1.10220517e+00]\n",
      " [ 1.00000000e+00 -1.99450507e-02  1.10220517e+00]\n",
      " [ 1.00000000e+00 -5.93588523e-01 -2.26093368e-01]\n",
      " [ 1.00000000e+00 -7.29685755e-01 -2.26093368e-01]\n",
      " [ 1.00000000e+00 -7.89466782e-01 -2.26093368e-01]\n",
      " [ 1.00000000e+00 -6.44465993e-01 -2.26093368e-01]\n",
      " [ 1.00000000e+00 -7.71822042e-02  1.10220517e+00]\n",
      " [ 1.00000000e+00 -8.65999486e-04 -2.26093368e-01]\n",
      " [ 1.00000000e+00 -1.40779041e-01 -2.26093368e-01]\n",
      " [ 1.00000000e+00  3.15099326e+00  2.43050370e+00]\n",
      " [ 1.00000000e+00 -9.31923697e-01 -2.26093368e-01]\n",
      " [ 1.00000000e+00  3.80715024e-01  1.10220517e+00]\n",
      " [ 1.00000000e+00 -8.65782986e-01 -1.55439190e+00]\n",
      " [ 1.00000000e+00 -9.72625673e-01 -2.26093368e-01]\n",
      " [ 1.00000000e+00  7.73743478e-01  1.10220517e+00]\n",
      " [ 1.00000000e+00  1.31050078e+00  1.10220517e+00]\n",
      " [ 1.00000000e+00 -2.97227261e-01 -2.26093368e-01]\n",
      " [ 1.00000000e+00 -1.43322915e-01 -1.55439190e+00]\n",
      " [ 1.00000000e+00 -5.04552951e-01 -2.26093368e-01]\n",
      " [ 1.00000000e+00 -4.91995958e-02  1.10220517e+00]\n",
      " [ 1.00000000e+00  2.40309445e+00 -2.26093368e-01]\n",
      " [ 1.00000000e+00 -1.14560907e+00 -2.26093368e-01]\n",
      " [ 1.00000000e+00 -6.90255715e-01 -2.26093368e-01]\n",
      " [ 1.00000000e+00  6.68172729e-01 -2.26093368e-01]\n",
      " [ 1.00000000e+00  2.53521350e-01 -2.26093368e-01]\n",
      " [ 1.00000000e+00  8.09357707e-01 -2.26093368e-01]\n",
      " [ 1.00000000e+00 -2.05647815e-01 -1.55439190e+00]\n",
      " [ 1.00000000e+00 -1.27280274e+00 -2.88269044e+00]\n",
      " [ 1.00000000e+00  5.00114703e-02  1.10220517e+00]\n",
      " [ 1.00000000e+00  1.44532608e+00 -2.26093368e-01]\n",
      " [ 1.00000000e+00 -2.41262044e-01  1.10220517e+00]\n",
      " [ 1.00000000e+00 -7.16966387e-01 -2.26093368e-01]\n",
      " [ 1.00000000e+00 -9.68809863e-01 -2.26093368e-01]\n",
      " [ 1.00000000e+00  1.67029651e-01  1.10220517e+00]\n",
      " [ 1.00000000e+00  2.81647389e+00  1.10220517e+00]\n",
      " [ 1.00000000e+00  2.05187753e-01  1.10220517e+00]\n",
      " [ 1.00000000e+00 -4.28236746e-01 -1.55439190e+00]\n",
      " [ 1.00000000e+00  3.01854946e-01 -2.26093368e-01]\n",
      " [ 1.00000000e+00  7.20322135e-01  1.10220517e+00]\n",
      " [ 1.00000000e+00 -1.01841540e+00 -2.26093368e-01]\n",
      " [ 1.00000000e+00 -1.46104938e+00 -1.55439190e+00]\n",
      " [ 1.00000000e+00 -1.89112638e-01  1.10220517e+00]\n",
      " [ 1.00000000e+00 -1.01459959e+00 -2.26093368e-01]]\n"
     ]
    }
   ],
   "source": [
    "#add the Xo term after normalization\n",
    "#m = #rows = #training examples\n",
    "#concatenate ones array to normalized X along every row\n",
    "\n",
    "rows,columns = X_norm.shape\n",
    "X = np.concatenate([np.ones((rows,1)),X_norm],axis = 1) #axis = 1 : adding row wise"
   ]
  },
  {
   "cell_type": "code",
   "execution_count": 89,
   "metadata": {},
   "outputs": [],
   "source": [
    "#compute the cost for linear regression with multiple variables while using theta as parameter \n",
    "#here X is the design matrix ie consisting of all the feature matrices\n",
    "\n",
    "def computeCostMulti(X,y,theta):\n",
    "    m = y.shape[0]\n",
    "    J = 0\n",
    "    J = (1/(2*m))*np.sum(np.square(np.dot(X,theta) - y))\n",
    "    return J"
   ]
  },
  {
   "cell_type": "code",
   "execution_count": 90,
   "metadata": {},
   "outputs": [],
   "source": [
    "#compute gradient descent to learn theta\n",
    "\n",
    "def gradientDescentMulti(X,y,theta,alpha,num_iter):\n",
    "    m = y.shape[0]\n",
    "    theta = theta.copy()\n",
    "    J_history = []\n",
    "    for i in range(num_iter):\n",
    "        theta = theta - (alpha/m)*(np.dot(X,theta) - y).dot(X)\n",
    "        J_history.append(computeCostMulti(X,y,theta))\n",
    "    return theta,J_history"
   ]
  },
  {
   "cell_type": "code",
   "execution_count": 104,
   "metadata": {},
   "outputs": [
    {
     "name": "stdout",
     "output_type": "stream",
     "text": [
      "the alpha choosen is 0.1\n"
     ]
    },
    {
     "data": {
      "image/png": "[encoded data removed]",
      "text/plain": [
       "<Figure size 432x288 with 1 Axes>"
      ]
     },
     "metadata": {
      "needs_background": "light"
     },
     "output_type": "display_data"
    },
    {
     "name": "stdout",
     "output_type": "stream",
     "text": [
      "theta computed by gradient descent is [340412.65957447 109447.79558639  -6578.3539709 ]\n",
      "1\n",
      "the alpha choosen is 0.3\n"
     ]
    },
    {
     "data": {
      "image/png": "[encoded data removed]",
      "text/plain": [
       "<Figure size 432x288 with 1 Axes>"
      ]
     },
     "metadata": {
      "needs_background": "light"
     },
     "output_type": "display_data"
    },
    {
     "name": "stdout",
     "output_type": "stream",
     "text": [
      "theta computed by gradient descent is [340412.65957447 109447.79646964  -6578.35485416]\n",
      "2\n",
      "the alpha choosen is 0.03\n"
     ]
    },
    {
     "data": {
      "image/png": "[encoded data removed]",
      "text/plain": [
       "<Figure size 432x288 with 1 Axes>"
      ]
     },
     "metadata": {
      "needs_background": "light"
     },
     "output_type": "display_data"
    },
    {
     "name": "stdout",
     "output_type": "stream",
     "text": [
      "theta computed by gradient descent is [340410.91897274 109162.68848142  -6293.24735132]\n",
      "3\n",
      "the alpha choosen is 0.01\n"
     ]
    },
    {
     "data": {
      "image/png": "[encoded data removed]",
      "text/plain": [
       "<Figure size 432x288 with 1 Axes>"
      ]
     },
     "metadata": {
      "needs_background": "light"
     },
     "output_type": "display_data"
    },
    {
     "name": "stdout",
     "output_type": "stream",
     "text": [
      "theta computed by gradient descent is [334302.06399328  99411.44947359   3267.01285407]\n",
      "4\n"
     ]
    }
   ],
   "source": [
    "#try out different learning rates for the data set to find a learning rate that converges quickly\n",
    "#run gradient descent for the chosen learning rate for about 50 iterations returnng the value of J\n",
    "#choose the plot with decreasing cost over number of iterations\n",
    "#trying out learning rates alpha as 0.3,0.1,0.03,0.01\n",
    "\n",
    "import matplotlib.pyplot as plt\n",
    "alpha_list = np.array([0.1,0.3,0.03,0.01])\n",
    "num_iters = 400\n",
    "theta = np.zeros(3) #3 features including Xo\n",
    "theta_vals = []\n",
    "for i in range(alpha_list.shape[0]):\n",
    "    print(\"the alpha choosen is {}\".format(alpha_list[i]))\n",
    "    new_theta,J_history = gradientDescentMulti(X,y,theta,alpha_list[i],num_iters)\n",
    "    plt.plot([x for x in range(num_iters)],J_history)\n",
    "    plt.xlabel(\"#of iterations\")\n",
    "    plt.ylabel(\"J(theta)\")\n",
    "    plt.show()\n",
    "    print(\"theta computed by gradient descent is {}\".format(new_theta))\n",
    "    theta_vals.append(new_theta)\n",
    "    print(len(theta_vals))"
   ]
  },
  {
   "cell_type": "code",
   "execution_count": 152,
   "metadata": {},
   "outputs": [
    {
     "name": "stdout",
     "output_type": "stream",
     "text": [
      "inner calc [-3.50680851e+02 -1.70212766e-01]\n",
      "x vect is \n",
      "[1650.    3.]\n",
      "mu [2000.68085106    3.17021277]\n",
      "[7.86202619e+02 7.52842809e-01]\n",
      "[ 1.         -0.44604385 -0.22609337]\n",
      "[340412.65957447 109447.79558639  -6578.3539709 ]\n",
      "the predicted price for 1650 sq-ft,3 bedreoom house is $293081\n"
     ]
    }
   ],
   "source": [
    "#now we have to make prediction as we have found out the optimal alpha and theta\n",
    "#Estimate the price of a 1650 sq-ft,3 Bedroom house\n",
    "\n",
    "X_vect = np.array([1,1650,3],dtype = \"f\")\n",
    "#normalize the features except for Xo using mean and std obtained for training set\n",
    "print(\"inner calc {}\".format(X_vect[1:3] - mu))\n",
    "print(\"x vect is \")\n",
    "print(X_vect[1:3])\n",
    "X_vect[1:3] = (X_vect[1:3] - mu)/sigma\n",
    "print(\"mu \" + str(mu))\n",
    "print(sigma)\n",
    "print(X_vect)\n",
    "#predicted price = THETAo*Xo + THETA1*X1 + THETA2*X2\n",
    "print(theta_vals[0])\n",
    "pred_price = np.dot(X_vect,theta_vals[0])\n",
    "print(\"the predicted price for 1650 sq-ft,3 bedreoom house is ${:.0f}\".format(pred_price))"
   ]
  },
  {
   "cell_type": "code",
   "execution_count": 153,
   "metadata": {},
   "outputs": [],
   "source": [
    "X1_X2 = (np.array([1650,3]).reshape(1,2) - np.array([2000.68085106,3.17021277]).reshape(1,2))/sigma"
   ]
  },
  {
   "cell_type": "code",
   "execution_count": 154,
   "metadata": {},
   "outputs": [
    {
     "name": "stdout",
     "output_type": "stream",
     "text": [
      "The price of a 1650 sq-feet house with 3 bedrooms is $290106.82\n"
     ]
    }
   ],
   "source": [
    "xo = 1\n",
    "x1 = X1_X2[:,0:1]\n",
    "x2 = X1_X2[:,1:2]\n",
    "hThetaOfX = (340412.65957447*xo + 109447.79558639*x1 + 6578.3539709*x2)\n",
    "print(\"The price of a 1650 sq-feet house with 3 bedrooms is ${:.02f}\".format(hThetaOfX[0][0]))"
   ]
  },
  {
   "cell_type": "code",
   "execution_count": 161,
   "metadata": {},
   "outputs": [],
   "source": [
    "#using normal equation to get the theta\n",
    "\n",
    "#loading data\n",
    "data_ne = np.loadtxt(os.path.join(\"C:/Users/dynam/Desktop/Coursera AndrewNg/machine-learning-ex1/machine-learning-ex1/ex1\",\"ex1data2.txt\"),delimiter=',')\n",
    "X_ne = data_ne[:,:2]\n",
    "y_ne = data_ne[:,2]\n",
    "m_ne = y.shape[0]\n",
    "\n",
    "#we still need to add X0 = 1 for the design matrix but no need to do feature scaling\n",
    "X_ne = np.concatenate([np.ones((m,1)),X_ne],axis = 1)"
   ]
  },
  {
   "cell_type": "code",
   "execution_count": 162,
   "metadata": {},
   "outputs": [],
   "source": [
    "#code for normal equation\n",
    "def normalEqn(X,y):\n",
    "    #X is mX(n+1)\n",
    "    #y is mX1\n",
    "    #theta is (n+1)x1\n",
    "    theta = np.zeros(X.shape[1])\n",
    "    theta = np.dot(np.dot(np.linalg.inv(np.dot(X.T,X)),X.T),y)\n",
    "    return theta"
   ]
  },
  {
   "cell_type": "code",
   "execution_count": 163,
   "metadata": {},
   "outputs": [
    {
     "name": "stdout",
     "output_type": "stream",
     "text": [
      "The theta obtained through normal equation is [89597.9095428    139.21067402 -8738.01911233]\n"
     ]
    }
   ],
   "source": [
    "theta_ne = normalEqn(X_ne,y_ne)\n",
    "print(\"The theta obtained through normal equation is {}\".format(theta_ne))"
   ]
  },
  {
   "cell_type": "code",
   "execution_count": 164,
   "metadata": {},
   "outputs": [
    {
     "name": "stdout",
     "output_type": "stream",
     "text": [
      "The price of a 1650 sq-feet house with 3 bedrooms is $91511.42\n"
     ]
    }
   ],
   "source": [
    "#Estimate the price of a 1650 sq-feet,3 bedroom house\n",
    "\n",
    "X_pred = np.array([1,1650,3],dtype = 'f')\n",
    "X_pred[1:3] = (X_pred[1:3] - mu)/sigma\n",
    "price_pred = np.dot(X_pred,theta_ne)\n",
    "print(\"The price of a 1650 sq-feet house with 3 bedrooms is ${:.02f}\".format(price_pred))"
   ]
  },
  {
   "cell_type": "code",
   "execution_count": null,
   "metadata": {},
   "outputs": [],
   "source": []
  }
 ],
 "metadata": {
  "kernelspec": {
   "display_name": "Python 3",
   "language": "python",
   "name": "python3"
  },
  "language_info": {
   "codemirror_mode": {
    "name": "ipython",
    "version": 3
   },
   "file_extension": ".py",
   "mimetype": "text/x-python",
   "name": "python",
   "nbconvert_exporter": "python",
   "pygments_lexer": "ipython3",
   "version": "3.5.6"
  }
 },
 "nbformat": 4,
 "nbformat_minor": 4
}
