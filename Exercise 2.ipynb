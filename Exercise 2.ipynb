{
 "cells": [
  {
   "cell_type": "code",
   "execution_count": 1,
   "metadata": {},
   "outputs": [],
   "source": [
    "#Logistic regression\n",
    "from scipy import optimize\n",
    "import os\n",
    "import numpy as np\n",
    "import matplotlib.pyplot as plt"
   ]
  },
  {
   "cell_type": "code",
   "execution_count": 2,
   "metadata": {},
   "outputs": [],
   "source": [
    "#build logistic regression model to predict weather a student gets admitted based on two exams\n",
    "#we have data of prev applicants that we can use as training data\n",
    "#for an applicant we have their scores on two exams and the admission decision\n",
    "#hence we need to build a classifier that estimates the probability weather an applicant will get admisssion\n",
    "#based on the scores of the two exams\n",
    "\n",
    "#load the data\n",
    "data = np.loadtxt(os.path.join(\"C:/Users/dynam/Desktop/Coursera AndrewNg/machine-learning-ex2/machine-learning-ex2/ex2\",'ex2data1.txt'),delimiter = ',')\n",
    "X,y = data[:,0:2],data[:,-1]"
   ]
  },
  {
   "cell_type": "code",
   "execution_count": 3,
   "metadata": {},
   "outputs": [],
   "source": [
    "#visualize data before making any predictions\n",
    "#on x,y axis we have the marks of the two exams and on the z axis we have the result of the exam\n",
    "def plotData(X,y):\n",
    "    #pos_vect and neg_vect are vectors with indices where y == 1 and y == 0\n",
    "    pos_vect = y == 1\n",
    "    neg_vect = y == 0\n",
    "\n",
    "    #X[pos,0],X[pos,1] are elements of the first column and second column of matrix X which have positive output\n",
    "    #X[neg,0],X[neg,1] are elements of the first and second column of Matrix X which have negetive output\n",
    "\n",
    "    #plot the examples\n",
    "    plt.plot(X[pos_vect,0],X[pos_vect,1],'k*',label = \"admitted\")\n",
    "    plt.plot(X[neg_vect,0],X[neg_vect,1],'ko',label = \"not admitted\")\n",
    "    plt.xlabel(\"Exam 1 score\")\n",
    "    plt.ylabel(\"Exam 2 score\")\n",
    "    plt.legend()\n",
    "    plt.show()"
   ]
  },
  {
   "cell_type": "code",
   "execution_count": 4,
   "metadata": {},
   "outputs": [
    {
     "data": {
      "image/png": "[encoded data removed]",
      "text/plain": [
       "<Figure size 432x288 with 1 Axes>"
      ]
     },
     "metadata": {
      "needs_background": "light"
     },
     "output_type": "display_data"
    }
   ],
   "source": [
    "plotData(X,y)"
   ]
  },
  {
   "cell_type": "code",
   "execution_count": 5,
   "metadata": {},
   "outputs": [],
   "source": [
    "#sigmoid function implentation\n",
    "def sigmoid(z):\n",
    "    #converting the input to a numpy array\n",
    "    z = np.array(z)\n",
    "    g = np.zeros(z.shape)\n",
    "    g = 1/(1+np.exp(-z)) #np.exp is used for nmpy exponenetial\n",
    "    return g"
   ]
  },
  {
   "cell_type": "code",
   "execution_count": 6,
   "metadata": {},
   "outputs": [
    {
     "name": "stdout",
     "output_type": "stream",
     "text": [
      "g(0) = 0.5\n"
     ]
    }
   ],
   "source": [
    "#testing sigmoid fucntion\n",
    "Z = 0\n",
    "g = sigmoid(Z)\n",
    "print(\"g({}) = {}\".format(Z,g))"
   ]
  },
  {
   "cell_type": "code",
   "execution_count": 7,
   "metadata": {},
   "outputs": [
    {
     "name": "stdout",
     "output_type": "stream",
     "text": [
      "(100, 3)\n"
     ]
    }
   ],
   "source": [
    "#m = #training examples\n",
    "#n = #features\n",
    "\n",
    "m,n = X.shape\n",
    "#ADD ones to axis = 1 ie along rows to X\n",
    "X = np.concatenate([np.ones((m,1)),X],axis = 1)\n",
    "print(X.shape)"
   ]
  },
  {
   "cell_type": "code",
   "execution_count": 8,
   "metadata": {},
   "outputs": [],
   "source": [
    "#cost function implementation\n",
    "\n",
    "#theta = (n+1,)\n",
    "#X = (m,n+1)\n",
    "#y = (m,)\n",
    "#grad = (n+1,)\n",
    "def costFunction(theta,X,y):\n",
    "    m = y.size #m = #trainig example\n",
    "    J = 0\n",
    "    grad = np.zeros(theta.shape)\n",
    "    hOfTheta = sigmoid(np.dot(X,theta))    \n",
    "    J = (1/m)*np.sum(np.dot(-y,np.log(hOfTheta)) - np.dot((1-y),np.log(1-hOfTheta)))\n",
    "    grad = (1/m)*np.dot((hOfTheta - y),X)\n",
    "    return J,grad"
   ]
  },
  {
   "cell_type": "code",
   "execution_count": 9,
   "metadata": {},
   "outputs": [
    {
     "name": "stdout",
     "output_type": "stream",
     "text": [
      "(3,)\n",
      "Cost at initial theta (zeros): 0.693\n",
      "Gradient at initial theta (zeros):\n",
      "[ -0.1        -12.00921659 -11.26284221]\n"
     ]
    }
   ],
   "source": [
    "#testing the cost function\n",
    "init_theta = np.zeros(n+1)\n",
    "print(init_theta.shape)\n",
    "cost,grad = costFunction(init_theta,X,y)\n",
    "\n",
    "print('Cost at initial theta (zeros): {:.3f}'.format(cost))\n",
    "print(\"Gradient at initial theta (zeros):\")\n",
    "print(grad)"
   ]
  },
  {
   "cell_type": "code",
   "execution_count": 10,
   "metadata": {},
   "outputs": [],
   "source": [
    "%config IPCompleter.greedy=True"
   ]
  },
  {
   "cell_type": "code",
   "execution_count": 11,
   "metadata": {},
   "outputs": [
    {
     "name": "stdout",
     "output_type": "stream",
     "text": [
      "Cost at initial theta (zeros): 0.218\n",
      "Gradient at initial theta (zeros):\n",
      "[0.04290299 2.56623412 2.64679737]\n"
     ]
    }
   ],
   "source": [
    "#testing cost function for non-zero theta\n",
    "test_theta = np.array([-24,0.2,0.2])\n",
    "cost,grad = costFunction(test_theta,X,y)\n",
    "print('Cost at initial theta (zeros): {:.3f}'.format(cost))\n",
    "print(\"Gradient at initial theta (zeros):\")\n",
    "print(grad)"
   ]
  },
  {
   "cell_type": "code",
   "execution_count": 12,
   "metadata": {},
   "outputs": [],
   "source": [
    "#for linear regression,we found out the parameters theta by taking gradient descent steps\n",
    "#but here we will use scipy.optimize.minimize for optimzation of cost function J(theta) with parameters theta\n",
    "#Parameters:\n",
    "#costFunction =>name of the cost that computes theta parameter\n",
    "#initial_theta =>initial theta values we are trying to optimize\n",
    "#jac =>Indication if the cost fucntion return jacobian or nor\n",
    "#method =>optimization algorithm used\n",
    "#options =>maximum number of iterations\n",
    "\n",
    "options = {\"maxiter\" : 400}\n",
    "#newton algorithm is substitute for advanced optimization algorithm like fminunc of octave\n",
    "#advanced algorithms like fminunc can replace gradient descent\n",
    "#the function returns an object\n",
    "res = optimize.minimize(costFunction,init_theta,(X,y),jac = True,method = \"TNC\",options = options)"
   ]
  },
  {
   "cell_type": "code",
   "execution_count": 13,
   "metadata": {},
   "outputs": [
    {
     "name": "stdout",
     "output_type": "stream",
     "text": [
      "The optimized cost function value is [-25.1613187    0.20623159   0.20147149]\n",
      "The optimized theta values are \n",
      "[-25.1613187    0.20623159   0.20147149]\n"
     ]
    }
   ],
   "source": [
    "#the fun method of res gives the valuw of the cost fucntion at optimized theta\n",
    "cost = res.fun\n",
    "#the optimized theta property is in the x mthod\n",
    "opt_theta = res.x\n",
    "\n",
    "print(\"The optimized cost function value is {}\".format(opt_theta))\n",
    "print(\"The optimized theta values are \")\n",
    "print(opt_theta)"
   ]
  },
  {
   "cell_type": "code",
   "execution_count": 14,
   "metadata": {},
   "outputs": [],
   "source": [
    "#make the decision boundary using optimized theta\n"
   ]
  },
  {
   "cell_type": "code",
   "execution_count": 15,
   "metadata": {},
   "outputs": [],
   "source": [
    "#evaluate logistic regression to predict weather a student will be admitted or not\n",
    "\n",
    "#Ex:Student 1 : Exam 1 : 45 and Exam 2: 85\n",
    "\n",
    "#predict weather a label is 0 or 1 using the learned logistic regression\n",
    "def predict(theta,X):\n",
    "    #p is an vector with 0 or 1 for each row in x\n",
    "    m = X.shape[0]\n",
    "    p = np.zeros(m)\n",
    "    #calculate g(z) where z = X.theta which is between 0 to 1\n",
    "    p = sigmoid(np.dot(X,theta))\n",
    "    return p"
   ]
  },
  {
   "cell_type": "code",
   "execution_count": 16,
   "metadata": {},
   "outputs": [
    {
     "name": "stdout",
     "output_type": "stream",
     "text": [
      "For a student with 45,85,we predict an admissson probability of 0.776 %\n"
     ]
    }
   ],
   "source": [
    "#using the funcion to predict\n",
    "\n",
    "X_pred = np.array([1,45,85])\n",
    "theta_pred = opt_theta\n",
    "prob = predict(theta_pred,X_pred)\n",
    "print(\"For a student with 45,85,we predict an admissson probability of {:.3f} %\".format(prob))"
   ]
  },
  {
   "cell_type": "code",
   "execution_count": 17,
   "metadata": {},
   "outputs": [
    {
     "name": "stdout",
     "output_type": "stream",
     "text": [
      "The student is Admitted\n"
     ]
    }
   ],
   "source": [
    "#making the classifier\n",
    "def probClassifier(prob):\n",
    "    if (prob >= 0.5):\n",
    "        return \"Admitted\"\n",
    "    else:\n",
    "        return \"Not admitted\"\n",
    "print(\"The student is \" + probClassifier(prob))"
   ]
  },
  {
   "cell_type": "code",
   "execution_count": 18,
   "metadata": {},
   "outputs": [
    {
     "name": "stdout",
     "output_type": "stream",
     "text": [
      "Train accuracy 60.0000009229095 %\n"
     ]
    }
   ],
   "source": [
    "#compute the accuracy on our training set\n",
    "p = predict(opt_theta,X)\n",
    "print(\"Train accuracy {} %\".format(np.mean(p)*100))"
   ]
  },
  {
   "cell_type": "code",
   "execution_count": 19,
   "metadata": {},
   "outputs": [],
   "source": [
    "#regularized logistic regression\n",
    "#we will try to predict weather microchips from a fabrication plant passes quality assurance QA based on the two tests conducted.\n",
    "import numpy as np\n",
    "import os\n",
    "\n",
    "data_rg = np.loadtxt(os.path.join(\"C:/Users/dynam/Desktop/Coursera AndrewNg/machine-learning-ex2/machine-learning-ex2/ex2\",'ex2data2.txt'),delimiter = ',')\n",
    "X = data_rg[:,:2]\n",
    "y = data_rg[:,2]"
   ]
  },
  {
   "cell_type": "code",
   "execution_count": 20,
   "metadata": {},
   "outputs": [
    {
     "data": {
      "image/png": "[encoded data removed]",
      "text/plain": [
       "<Figure size 432x288 with 1 Axes>"
      ]
     },
     "metadata": {
      "needs_background": "light"
     },
     "output_type": "display_data"
    }
   ],
   "source": [
    "#visualize the data\n",
    "import matplotlib.pyplot as plt\n",
    "\n",
    "def plotRgData(X,y):\n",
    "    pos_vect = y == 1\n",
    "    neg_vect = y == 0\n",
    "    plt.plot(X[pos_vect,0],X[pos_vect,1],'g*',label = \"QA passed\")\n",
    "    plt.plot(X[neg_vect,0],X[neg_vect,1],'ro',label = \"QA failed\")\n",
    "    plt.xlabel(\"Microchip Test1\")\n",
    "    plt.ylabel(\"Microchip Test2\")\n",
    "    plt.legend()\n",
    "    plt.show()\n",
    "plotRgData(X,y)"
   ]
  },
  {
   "cell_type": "code",
   "execution_count": 21,
   "metadata": {},
   "outputs": [],
   "source": [
    "#Feature Mapping\n",
    "#one way to fit the data better is by creating more features from data point\n",
    "#a logistic regression classifier trained on higher - dimension feature vector will have a complex decision boundary \n",
    "#but it is susceptible to overfitting\n",
    "\n",
    "def mapFeature(X1,X2,degree = 6):\n",
    "    #X1 is a vector of (m,1) dim of the first feature for all examples\n",
    "    #X2 is a vwector of (m,1) dim of the secod feature for all examples\n",
    "    #degree = polynomial degree\n",
    "    #it map the features into polynomials terms of X1,X2 upto the sixth term\n",
    "    #it also adds a column of ones \n",
    "    \n",
    "    if X1.ndim > 0:\n",
    "        out = [np.ones(X1.shape[0])]\n",
    "    else:\n",
    "        out = [np.ones(1)]\n",
    "\n",
    "    for i in range(1, degree + 1):\n",
    "        for j in range(i + 1):\n",
    "            out.append((X1 ** (i - j)) * (X2 ** j))\n",
    "\n",
    "    if X1.ndim > 0:\n",
    "        return np.stack(out, axis=1)\n",
    "    else:\n",
    "        return np.array(out)"
   ]
  },
  {
   "cell_type": "code",
   "execution_count": 22,
   "metadata": {},
   "outputs": [],
   "source": [
    "X = mapFeature(X[:,0],X[:,1])"
   ]
  },
  {
   "cell_type": "code",
   "execution_count": 23,
   "metadata": {},
   "outputs": [],
   "source": [
    "#function to compute the cost function for reguarized logistic regression\n",
    "\n",
    "def costFunctionReg(theta, X, y, lambda_):\n",
    "    \"\"\"\n",
    "    #theta is (n+1,)\n",
    "    #X is (m,n+1)\n",
    "    #y is (m,)\n",
    "    #lambda_ is the regularization parameter\n",
    "    #J is the regularized cost fucntion value\n",
    "    #grad is (n+1,) vec which is gradient of the cost fucntion wrt theta\n",
    "    \"\"\"\n",
    "    # Initialize some useful values\n",
    "    m = y.size  # number of training examples\n",
    "\n",
    "    # You need to return the following variables correctly \n",
    "    J = 0\n",
    "    grad = np.zeros(theta.shape)\n",
    "\n",
    "    # ===================== YOUR CODE HERE ======================\n",
    "    h = sigmoid(np.dot(X,theta))\n",
    "    \n",
    "    temp = theta\n",
    "    temp[0] = 0\n",
    "    \n",
    "    J = (1/m)*np.sum((np.dot(-y,np.log(h)) - np.dot((1-y),np.log(1-h)))) + (lambda_ / (2*m))*np.sum(np.square(temp))\n",
    "    \n",
    "    grad = (1 / m) * np.dot((h-y),X) \n",
    "    grad = grad + (lambda_ / m) * temp\n",
    "    \n",
    "    # =============================================================\n",
    "    return J, grad"
   ]
  },
  {
   "cell_type": "code",
   "execution_count": 24,
   "metadata": {},
   "outputs": [
    {
     "name": "stdout",
     "output_type": "stream",
     "text": [
      "The cost at initial theta : 0.69\n",
      "First five Gradient at initial value of theta is \n",
      "[8.47457627e-03 1.87880932e-02 7.77711864e-05 5.03446395e-02\n",
      " 1.15013308e-02]\n"
     ]
    }
   ],
   "source": [
    "#calling the costFunctionRegularized using initial value of theta (all zeros) and another test case\n",
    "initial_theta = np.zeros(X.shape[1])\n",
    "#set the lambda reg para = 1\n",
    "lambda_ = 1\n",
    "cost,grad = costFunctionReg(initial_theta,X,y,lambda_)\n",
    "print(\"The cost at initial theta : {:0.2f}\".format(cost))\n",
    "print(\"First five Gradient at initial value of theta is \")\n",
    "print(grad[:5])"
   ]
  },
  {
   "cell_type": "code",
   "execution_count": 25,
   "metadata": {},
   "outputs": [
    {
     "name": "stdout",
     "output_type": "stream",
     "text": [
      "Cost at test theta is 3.16450933161501\n",
      "First five Gradient at test value of theta is \n",
      "[0.34604507 0.16135192 0.19479576 0.22686278 0.09218568]\n"
     ]
    }
   ],
   "source": [
    "#test value of theta\n",
    "test_theta = np.ones(X.shape[1])\n",
    "lambda_ = 10 #reg param\n",
    "cost,grad = costFunctionReg(test_theta,X,y,10)\n",
    "print(\"Cost at test theta is {}\".format(cost))\n",
    "print(\"First five Gradient at test value of theta is \")\n",
    "print(grad[:5])"
   ]
  },
  {
   "cell_type": "code",
   "execution_count": 26,
   "metadata": {},
   "outputs": [],
   "source": [
    "#we will use optimize.minimize to learn optimized theta parameter instead of gradient descent\n",
    "init_theta = np.zeros(X.shape[1])\n",
    "lambda_ = 1.00\n",
    "options = {'maxiter' : 100}\n",
    "res = optimize.minimize(costFunctionReg,init_theta,(X,y,lambda_),jac = True,method = \"TNC\",options = options)"
   ]
  },
  {
   "cell_type": "code",
   "execution_count": 27,
   "metadata": {},
   "outputs": [],
   "source": [
    "#the value of cost function\n",
    "cost = res.fun\n",
    "#optimal theta\n",
    "theta = res.x"
   ]
  },
  {
   "cell_type": "code",
   "execution_count": 28,
   "metadata": {},
   "outputs": [],
   "source": [
    "#plot decision boundary"
   ]
  },
  {
   "cell_type": "code",
   "execution_count": 29,
   "metadata": {},
   "outputs": [
    {
     "name": "stdout",
     "output_type": "stream",
     "text": [
      "Train Accuracy : 43.04 %\n"
     ]
    }
   ],
   "source": [
    "pred = predict(theta,X)\n",
    "print(\"Train Accuracy : {:.2f} %\".format(np.mean(pred)*100))"
   ]
  }
 ],
 "metadata": {
  "kernelspec": {
   "display_name": "Python 3",
   "language": "python",
   "name": "python3"
  },
  "language_info": {
   "codemirror_mode": {
    "name": "ipython",
    "version": 3
   },
   "file_extension": ".py",
   "mimetype": "text/x-python",
   "name": "python",
   "nbconvert_exporter": "python",
   "pygments_lexer": "ipython3",
   "version": "3.5.6"
  }
 },
 "nbformat": 4,
 "nbformat_minor": 4
}
