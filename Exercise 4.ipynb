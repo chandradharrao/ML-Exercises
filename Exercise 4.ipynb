{
 "cells": [
  {
   "cell_type": "code",
   "execution_count": 1,
   "metadata": {},
   "outputs": [],
   "source": [
    "#Implementation of backPropogation algorithm\n",
    "\n",
    "import os\n",
    "import numpy as np\n",
    "import matplotlib.pyplot as plt\n",
    "from scipy import optimize\n",
    "from scipy.io import loadmat"
   ]
  },
  {
   "cell_type": "code",
   "execution_count": 2,
   "metadata": {},
   "outputs": [],
   "source": [
    "#Backpropogation algorithm is used to learn the parameters of NN just like gradient descent in \n",
    "#linear and logistic regression\n",
    "\n",
    "data = loadmat(os.path.join(\"C:/Users/dynam/Desktop/Coursera AndrewNg/machine-learning-ex4/machine-learning-ex4/ex4\",\"ex4data1.mat\"))\n",
    "X, y = data['X'], data['y'].ravel()\n",
    "y[y == 10] = 0\n",
    "m = y.size"
   ]
  },
  {
   "cell_type": "code",
   "execution_count": 3,
   "metadata": {},
   "outputs": [],
   "source": [
    "input_layer_size  = 400  # 20x20 Input Images of Digits\n",
    "hidden_layer_size = 25   # 25 hidden units\n",
    "num_labels = 10          # 10 labels, from 0 to 9\n",
    "\n",
    "weights = loadmat(os.path.join(\"C:/Users/dynam/Desktop/Coursera AndrewNg/machine-learning-ex4/machine-learning-ex4/ex4\",\"ex4weights.mat\"))\n",
    "Theta1, Theta2 = weights['Theta1'], weights['Theta2']\n",
    "Theta2 = np.roll(Theta2, 1, axis=0)\n",
    "#since the adv optimization algorithm takes in only vectors as input,we unroll theta into vectors\n",
    "nn_params = np.concatenate([Theta1.ravel(),Theta2.ravel()])"
   ]
  },
  {
   "cell_type": "code",
   "execution_count": 4,
   "metadata": {},
   "outputs": [
    {
     "name": "stdout",
     "output_type": "stream",
     "text": [
      "Theta 1.shape (25, 401)\n",
      "Theta 2.shape (10, 26)\n",
      "nn_params.shape (10285,) \n"
     ]
    }
   ],
   "source": [
    "print(\"Theta 1.shape {}\".format(Theta1.shape))\n",
    "print(\"Theta 2.shape {}\".format(Theta2.shape))\n",
    "print(\"nn_params.shape {} \".format(nn_params.shape))"
   ]
  },
  {
   "cell_type": "code",
   "execution_count": 5,
   "metadata": {},
   "outputs": [
    {
     "name": "stdout",
     "output_type": "stream",
     "text": [
      "Scalar matrix multiplication used in finding delta,gradientSigmoid [ 3  8 15]\n"
     ]
    }
   ],
   "source": [
    "a = np.array([1,2,3])\n",
    "b = ([3,4,5])\n",
    "print(\"Scalar matrix multiplication used in finding delta,gradientSigmoid {}\".format(a*b))"
   ]
  },
  {
   "cell_type": "code",
   "execution_count": 6,
   "metadata": {},
   "outputs": [],
   "source": [
    "def sigmoid(z):\n",
    "    return 1.0/(1.0 + np.exp(-z))"
   ]
  },
  {
   "cell_type": "code",
   "execution_count": 7,
   "metadata": {},
   "outputs": [],
   "source": [
    "def sigmoidGradient(z):\n",
    "    #computes the gradient of the sigmoid function evaluated at z\n",
    "    #works regardless of weather z is a vector,matrix\n",
    "    #in particular if z is avector or a mtrix,then t should return gradient for each element\n",
    "    \n",
    "    g = np.zeros(z.shape)\n",
    "    g = sigmoid(z)*(1-sigmoid(z))\n",
    "    return g"
   ]
  },
  {
   "cell_type": "code",
   "execution_count": 8,
   "metadata": {},
   "outputs": [],
   "source": [
    "#originally y is a vector containing 0 to 09 but we need to one hot encode it to values containing 0 or 1\n",
    "#0 refers to negetive class where as 1 refers to positiove class\n",
    "#we should calculate the hypothesis for every example of training set and sum the cost using forward prop\n",
    "\n",
    "#cost function and grad for 2 layer NN which performs classifications\n",
    "def nnCostFunction(nn_params,input_layer_size,hidden_layer_size,num_labels,X,y,lambda_ = 0.0):\n",
    "    #nn_params : paramete for th nn unrolled into a vector \n",
    "    #X : (m X input_layer_size)\n",
    "    #y : (m,)\n",
    "    #grad : unrolled vector of the partial derivatives\n",
    "    #Theta1 : (25,401)\n",
    "    #Theta2 : (10,25)\n",
    "    \n",
    "    #unroll 1D nn_params back into Theta1,Theta2\n",
    "    Theta1 = np.reshape(nn_params[0:hidden_layer_size*(input_layer_size + 1)],(hidden_layer_size,(input_layer_size+1)))\n",
    "    Theta2 = np.reshape(nn_params[hidden_layer_size*(input_layer_size + 1):],(num_labels,(hidden_layer_size + 1)))\n",
    "    m = y.size\n",
    "    \n",
    "    J = 0\n",
    "    #derivative of cost function will have same dimension of Theta\n",
    "    Theta1_grad = np.zeros(Theta1.shape)\n",
    "    Theta2_grad = np.zeros(Theta2.shape)\n",
    "    \n",
    "    #a1 is input layer.Hence concatenate 1 to X to accomodate the bias unit\n",
    "    a1 = np.concatenate([np.ones((m,1)),X],axis = 1)\n",
    "    a2 = sigmoid(a1.dot(Theta1.T))\n",
    "    #concatenate the bias term\n",
    "    a2 = np.concatenate([np.ones((a2.shape[0],1)),a2],axis = 1)\n",
    "    \n",
    "    a3 = sigmoid(a2.dot(Theta2.T))\n",
    "    \n",
    "    y_matrix = y.reshape(-1) #we use -1 when we dont know dimension and want np to figure it out\n",
    "    #np.eye(num_label) generates a diagnol matrix with 10X10 dim\n",
    "    #we use [y_matrix] to pick individual arrays from the diagnal matrix corresponding to values present in y_matrix\n",
    "    y_matrix = np.eye(num_labels)[y_matrix]\n",
    "    \n",
    "    temp1 = Theta1\n",
    "    temp2 = Theta2\n",
    "    \n",
    "    #add regularization term\n",
    "    #Theta1[:,1:] and Theta2[:,1:] is done to prevent regularization of the columns with ones\n",
    "    reg_term = (lambda_/(2*m))*(np.sum(np.square(temp1[:,1:])) + np.sum(np.square(temp2[:,1:])))\n",
    "    J = (-1 / m) * np.sum((np.log(a3) * y_matrix) + np.log(1 - a3) * (1 - y_matrix)) + reg_term\n",
    "    \n",
    "    #Backpropogation\n",
    "    #Theta1 (25,401) (#hidden units,#input units)\n",
    "    #Theta2 (10,25) (#output units,#hidden layers)\n",
    "    #a1 (5000,401) (#samples,#features or pixels)\n",
    "    #we can calculate delta_3 by subtratcing prdictions from label\n",
    "    #we use backprop to calculate delta_2 from delta_3 and so on...\n",
    "    delta_3 = a3 - y_matrix #(5000,10)\n",
    "    delta_2 = delta_3.dot(Theta2)[:, 1:] * sigmoidGradient(a1.dot(Theta1.T))\n",
    "    \n",
    "    dJBydTheta1 = delta_2.T.dot(a1)\n",
    "    dJBydTheta2 = delta_3.T.dot(a2)\n",
    "    \n",
    "    #add regularization term except for bias unit\n",
    "    \n",
    "    #print(Theta1[:,1:].shape)\n",
    "    D1 = (1/m)*dJBydTheta1 \n",
    "    #print(D1[:,1:].shape)\n",
    "    D1[:,1:] = D1[:,1:] + (lambda_/m)*Theta1[:,1:]\n",
    "    #nit adding reg term for bias unit   \n",
    "    D2 = (1/m)*dJBydTheta2\n",
    "    D2[:,1:] = D2[:,1:] + (lambda_/m)*Theta2[:,1:]\n",
    "    \n",
    "    grad = np.concatenate([D1.ravel(),D2.ravel()])\n",
    "    return J,grad"
   ]
  },
  {
   "cell_type": "code",
   "execution_count": 9,
   "metadata": {},
   "outputs": [
    {
     "name": "stdout",
     "output_type": "stream",
     "text": [
      "Cost at parameters given with lambda = 0 is 0.287629 \n"
     ]
    }
   ],
   "source": [
    "lambda_ = 0\n",
    "J,_ = nnCostFunction(nn_params,input_layer_size,hidden_layer_size,num_labels,X,y,lambda_)\n",
    "print(\"Cost at parameters given with lambda = 0 is {:.6f} \".format(J))"
   ]
  },
  {
   "cell_type": "code",
   "execution_count": 10,
   "metadata": {},
   "outputs": [
    {
     "name": "stdout",
     "output_type": "stream",
     "text": [
      "Cost at parameters given with lambda = 1 is 0.383770 \n"
     ]
    }
   ],
   "source": [
    "#cost function with lambda_ = 1\n",
    "lambda_ = 1\n",
    "J,_ = nnCostFunction(nn_params,input_layer_size,hidden_layer_size,num_labels,X,y,lambda_)\n",
    "print(\"Cost at parameters given with lambda = 1 is {:.6f} \".format(J))"
   ]
  },
  {
   "cell_type": "code",
   "execution_count": 11,
   "metadata": {},
   "outputs": [],
   "source": [
    "#random initialization\n",
    "#if we dont initialize the parameters randomly,then the error propogated through the network will be same\n",
    "#the weight changes depend on the error signal,hence all the weights of the model will be same\n",
    "#hence we initialize the paramaters randomly in the range[-epsilon,epsilon] where Epsilon = 0.12.\n",
    "\n",
    "def randInitializeWeights(L_in,L_out,epsilon_init = 0.12):\n",
    "    #L_in : #input conections\n",
    "    #L_out : #output units\n",
    "    #epsilon_init : range for random values of epsilon\n",
    "    #w : (L_out,L_in + 1) matrix where the first column handles the # bias units\n",
    "    \n",
    "    W = np.zeros((L_out,L_in+1))\n",
    "    #np.rndom.range(shape_arr) generates a matrix of shape given with random values between [0,1)\n",
    "    W = np.random.rand(L_out,L_in+1)*2*epsilon_init - epsilon_init\n",
    "    return W"
   ]
  },
  {
   "cell_type": "code",
   "execution_count": 12,
   "metadata": {},
   "outputs": [
    {
     "name": "stdout",
     "output_type": "stream",
     "text": [
      "Initializing Neural Network Parametrs Theta1 and Theta2.....\n"
     ]
    }
   ],
   "source": [
    "print(\"Initializing Neural Network Parametrs Theta1 and Theta2.....\")\n",
    "initial_Theta1 = randInitializeWeights(input_layer_size,hidden_layer_size)\n",
    "initial_Theta2 = randInitializeWeights(hidden_layer_size,num_labels)\n",
    "\n",
    "#unroll the parameters because the neural takes in only linear inputs\n",
    "initial_nn_params = np.concatenate([initial_Theta1.ravel(), initial_Theta2.ravel()], axis=0)"
   ]
  },
  {
   "cell_type": "code",
   "execution_count": 13,
   "metadata": {},
   "outputs": [],
   "source": [
    "#Gradient checking\n",
    "\n",
    "#compute numerical gradient\n",
    "def computerNumericalGradient(J,theta,e = 1e-4): #taking e = 10^-4\n",
    "    #J : function which will be used to estimate numerical gradient\n",
    "    #theta : 1D unrolled parameter array.The numerical gradiet computed at those params\n",
    "    #e : float value of epsilon\n",
    "    \n",
    "    #The foll. code return numgrad where numgrad[i] is the numerical approximation of the derivative of J wrt theta[i].   \n",
    "    numgrad = np.zeros(theta.shape)\n",
    "    #np.diag(v) extracts all diagonal elements of matrix v into a single vector\n",
    "    perturb = np.diag(np.ones(theta.shape)*e) #here we extract a diagonal vector with e multiplied Eg: [e e e .. e]\n",
    "    \n",
    "    print(\"pertube \" + str(perturb.shape))\n",
    "    print(\"theta \" + str(theta.shape))\n",
    "    for i in range(theta.size):\n",
    "        J_plus,_ = J(theta + perturb[:,i])\n",
    "        J_minus,_ = J(theta - perturb[:,i])\n",
    "        numgrad[i] = (J_plus - J_minus)/(2*e)\n",
    "    return numgrad  "
   ]
  },
  {
   "cell_type": "code",
   "execution_count": 14,
   "metadata": {},
   "outputs": [],
   "source": [
    "def debugInitializeWeights(fan_out, fan_in):\n",
    "    W = np.sin(np.arange(1, 1 + (1+fan_in)*fan_out))/10.0\n",
    "    W = W.reshape(fan_out, 1+fan_in, order='F')\n",
    "    return W"
   ]
  },
  {
   "cell_type": "code",
   "execution_count": 15,
   "metadata": {},
   "outputs": [],
   "source": [
    "#Function to create a mini NN to test both the num_grad and analytical grad so that its faster\n",
    "def checkNNGradients(nnCostFunction,lambda_ = 0):\n",
    "    '''\n",
    "    creates a small nn to check the backpropogation radient.\n",
    "    It will output the anylytical gradients produced by our back prop code and the numerically\n",
    "    calculated gradients.These two results should be close in terms of 10^-9.\n",
    "    \n",
    "    '''\n",
    "    \n",
    "    '''\n",
    "    nnCostFunction : a reference to cost function\n",
    "    lambda_ : The regularization parameter\n",
    "    \n",
    "    '''\n",
    "    \n",
    "    input_layer_size = 3\n",
    "    hidden_layer_size = 5\n",
    "    num_labels = 3\n",
    "    m = 5 #samples\n",
    "    \n",
    "    #generate random test data\n",
    "    Theta1 = debugInitializeWeights(hidden_layer_size, input_layer_size)\n",
    "    Theta2 = debugInitializeWeights(num_labels, hidden_layer_size)\n",
    "    \n",
    "    #Generate X too\n",
    "    X = debugInitializeWeights(m, input_layer_size - 1)\n",
    "    y = np.arange(1,1+m)%num_labels\n",
    "    #unroll the parameters to be passed to the nn into single vector\n",
    "    nn_params = np.concatenate([Theta1.ravel(),Theta2.ravel()])\n",
    "    \n",
    "    #make short hand for the cost fucntion using lambdas\n",
    "    costFun = lambda NN_params : nnCostFunction(NN_params,input_layer_size,hidden_layer_size,num_labels,X,y,lambda_)\n",
    "    #grad : gradient obtained analytically on the small neural network with debugging data set\n",
    "    #numgrad : radient obtained  numerically\n",
    "    cost,grad = costFun(nn_params)\n",
    "    numgrad = computerNumericalGradient(costFun,nn_params)\n",
    "    \n",
    "    #visually examine the two gradient computation\n",
    "    print(\"Left column is numerically calculated gradient and right column is analytically calculated gradient\")\n",
    "    print(np.stack([numgrad,grad],axis = 1))\n",
    "    print(\"The above two columns should be very similar\")\n",
    "    \n",
    "    #evaluate the norm difference\n",
    "    diff = np.linalg.norm(numgrad - grad)/np.linalg.norm(numgrad + grad)\n",
    "    \n",
    "    print('If your backpropagation implementation is correct, then \\n'\n",
    "          'the relative difference will be small (less than 1e-9). \\n'\n",
    "          'Relative Difference: %g' % diff)"
   ]
  },
  {
   "cell_type": "code",
   "execution_count": 16,
   "metadata": {},
   "outputs": [
    {
     "name": "stdout",
     "output_type": "stream",
     "text": [
      "pertube (38, 38)\n",
      "theta (38,)\n",
      "Left column is numerically calculated gradient and right column is analytically calculated gradient\n",
      "[[-9.27825235e-03 -9.27825236e-03]\n",
      " [-3.04978709e-06 -3.04978914e-06]\n",
      " [-1.75060084e-04 -1.75060082e-04]\n",
      " [-9.62660640e-05 -9.62660620e-05]\n",
      " [ 8.89911959e-03  8.89911960e-03]\n",
      " [ 1.42869450e-05  1.42869443e-05]\n",
      " [ 2.33146358e-04  2.33146357e-04]\n",
      " [ 1.17982666e-04  1.17982666e-04]\n",
      " [-8.36010761e-03 -8.36010762e-03]\n",
      " [-2.59383093e-05 -2.59383100e-05]\n",
      " [-2.87468729e-04 -2.87468729e-04]\n",
      " [-1.37149709e-04 -1.37149706e-04]\n",
      " [ 7.62813550e-03  7.62813551e-03]\n",
      " [ 3.69883257e-05  3.69883234e-05]\n",
      " [ 3.35320351e-04  3.35320347e-04]\n",
      " [ 1.53247082e-04  1.53247082e-04]\n",
      " [-6.74798369e-03 -6.74798370e-03]\n",
      " [-4.68759764e-05 -4.68759769e-05]\n",
      " [-3.76215583e-04 -3.76215587e-04]\n",
      " [-1.66560294e-04 -1.66560294e-04]\n",
      " [ 3.14544970e-01  3.14544970e-01]\n",
      " [ 1.64090819e-01  1.64090819e-01]\n",
      " [ 1.64567932e-01  1.64567932e-01]\n",
      " [ 1.58339334e-01  1.58339334e-01]\n",
      " [ 1.51127527e-01  1.51127527e-01]\n",
      " [ 1.49568335e-01  1.49568335e-01]\n",
      " [ 1.11056588e-01  1.11056588e-01]\n",
      " [ 5.75736494e-02  5.75736493e-02]\n",
      " [ 5.77867378e-02  5.77867378e-02]\n",
      " [ 5.59235296e-02  5.59235296e-02]\n",
      " [ 5.36967009e-02  5.36967009e-02]\n",
      " [ 5.31542052e-02  5.31542052e-02]\n",
      " [ 9.74006970e-02  9.74006970e-02]\n",
      " [ 5.04575855e-02  5.04575855e-02]\n",
      " [ 5.07530173e-02  5.07530173e-02]\n",
      " [ 4.91620841e-02  4.91620841e-02]\n",
      " [ 4.71456249e-02  4.71456249e-02]\n",
      " [ 4.65597186e-02  4.65597186e-02]]\n",
      "The above two columns should be very similar\n",
      "If your backpropagation implementation is correct, then \n",
      "the relative difference will be small (less than 1e-9). \n",
      "Relative Difference: 2.41486e-11\n"
     ]
    }
   ],
   "source": [
    "checkNNGradients(nnCostFunction)"
   ]
  },
  {
   "cell_type": "code",
   "execution_count": 17,
   "metadata": {},
   "outputs": [
    {
     "name": "stdout",
     "output_type": "stream",
     "text": [
      "pertube (38, 38)\n",
      "theta (38,)\n",
      "Left column is numerically calculated gradient and right column is analytically calculated gradient\n",
      "[[-9.27825235e-03 -9.27825236e-03]\n",
      " [-1.67679797e-02 -1.67679797e-02]\n",
      " [-6.01744725e-02 -6.01744725e-02]\n",
      " [-1.73704651e-02 -1.73704651e-02]\n",
      " [ 8.89911959e-03  8.89911960e-03]\n",
      " [ 3.94334829e-02  3.94334829e-02]\n",
      " [-3.19612287e-02 -3.19612287e-02]\n",
      " [-5.75658668e-02 -5.75658668e-02]\n",
      " [-8.36010761e-03 -8.36010762e-03]\n",
      " [ 5.93355565e-02  5.93355565e-02]\n",
      " [ 2.49225535e-02  2.49225535e-02]\n",
      " [-4.51963845e-02 -4.51963845e-02]\n",
      " [ 7.62813550e-03  7.62813551e-03]\n",
      " [ 2.47640974e-02  2.47640974e-02]\n",
      " [ 5.97717617e-02  5.97717617e-02]\n",
      " [ 9.14587966e-03  9.14587966e-03]\n",
      " [-6.74798369e-03 -6.74798370e-03]\n",
      " [-3.26881426e-02 -3.26881426e-02]\n",
      " [ 3.86410548e-02  3.86410548e-02]\n",
      " [ 5.46101547e-02  5.46101547e-02]\n",
      " [ 3.14544970e-01  3.14544970e-01]\n",
      " [ 1.18682669e-01  1.18682669e-01]\n",
      " [ 2.03987128e-01  2.03987128e-01]\n",
      " [ 1.25698067e-01  1.25698067e-01]\n",
      " [ 1.76337550e-01  1.76337550e-01]\n",
      " [ 1.32294136e-01  1.32294136e-01]\n",
      " [ 1.11056588e-01  1.11056588e-01]\n",
      " [ 3.81928689e-05  3.81928696e-05]\n",
      " [ 1.17148233e-01  1.17148233e-01]\n",
      " [-4.07588279e-03 -4.07588279e-03]\n",
      " [ 1.13133142e-01  1.13133142e-01]\n",
      " [-4.52964427e-03 -4.52964427e-03]\n",
      " [ 9.74006970e-02  9.74006970e-02]\n",
      " [ 3.36926556e-02  3.36926556e-02]\n",
      " [ 7.54801264e-02  7.54801264e-02]\n",
      " [ 1.69677090e-02  1.69677090e-02]\n",
      " [ 8.61628953e-02  8.61628953e-02]\n",
      " [ 1.50048382e-03  1.50048382e-03]]\n",
      "The above two columns should be very similar\n",
      "If your backpropagation implementation is correct, then \n",
      "the relative difference will be small (less than 1e-9). \n",
      "Relative Difference: 2.30858e-11\n",
      "\n",
      "\n",
      "Cost at (fixed) debugging parameters (w/ lambda = 3.000000): 0.576051 \n",
      "(for lambda = 3, this value should be about 0.576051)\n"
     ]
    }
   ],
   "source": [
    "#check gradient obtained numerically and analytically for test nueural network\n",
    "lambda_ = 3\n",
    "checkNNGradients(nnCostFunction,lambda_)\n",
    "#output the cost function value\n",
    "debug_J,_ = nnCostFunction(nn_params, input_layer_size,\n",
    "                          hidden_layer_size, num_labels, X, y, lambda_)\n",
    "print('\\n\\nCost at (fixed) debugging parameters (w/ lambda = %f): %f ' % (lambda_, debug_J))\n",
    "print('(for lambda = 3, this value should be about 0.576051)')"
   ]
  },
  {
   "cell_type": "code",
   "execution_count": 18,
   "metadata": {},
   "outputs": [],
   "source": [
    "#After implementing cost function and gradient computation we can now use scipy's optimze.minimize to learn a good set of parameters\n",
    "#Till now we were using the provided parametrs from data set\n",
    "#now lets learn own parametrs\n",
    "\n",
    "options = {\"maxiter\" : 250}\n",
    "lambda_ = 1\n",
    "\n",
    "#creating shorthand for the function to be minimized\n",
    "costFunction = lambda p : nnCostFunction(p,input_layer_size,hidden_layer_size,num_labels,X,y,lambda_)\n",
    "\n",
    "#use scipy.optimize/alternative to gradient descent to miimie the cost function\n",
    "#we need to pass the address of the cost function to optimize.minimize\n",
    "res = optimize.minimize(costFunction,initial_nn_params,jac = True,method = \"TNC\",options = options)\n",
    "\n",
    "#get the solution of the optimization\n",
    "nn_params = res.x #unrolled parameters\n",
    "#obtain Theta1,Theta2\n",
    "Theta1 = np.reshape(nn_params[:(hidden_layer_size*(input_layer_size + 1))],(hidden_layer_size,(input_layer_size + 1)))\n",
    "Theta2 = np.reshape(nn_params[(hidden_layer_size*(input_layer_size+1)):],(num_labels,(hidden_layer_size + 1)))"
   ]
  },
  {
   "cell_type": "code",
   "execution_count": 19,
   "metadata": {},
   "outputs": [],
   "source": [
    "def predict(Theta1,Theta2,X):\n",
    "    '''\n",
    "    predict the label of an input given a trained NN\n",
    "    Theta1 (25,400)\n",
    "    Theta2 (10,25)\n",
    "    X (5000,400)\n",
    "    '''\n",
    "    \n",
    "    m = X.shape[0] #samples\n",
    "    num_labels = Theta2.shape[0]\n",
    "    \n",
    "    h1 = sigmoid(np.dot(np.concatenate([np.ones((m, 1)), X], axis=1), Theta1.T))\n",
    "    h2 = sigmoid(np.dot(np.concatenate([np.ones((m, 1)), h1], axis=1), Theta2.T))\n",
    "    \n",
    "    #choosing the index value with highest probability output for each example\n",
    "    p = np.argmax(h2,axis = 1)\n",
    "    return p"
   ]
  },
  {
   "cell_type": "code",
   "execution_count": 20,
   "metadata": {},
   "outputs": [
    {
     "name": "stdout",
     "output_type": "stream",
     "text": [
      "Training Set Accuracy: 99.100000\n"
     ]
    }
   ],
   "source": [
    "pred = predict(Theta1,Theta2,X)\n",
    "print('Training Set Accuracy: %f' % (np.mean(pred == y) * 100))"
   ]
  },
  {
   "cell_type": "code",
   "execution_count": 21,
   "metadata": {},
   "outputs": [],
   "source": [
    "from matplotlib import pyplot\n",
    "\n",
    "def displayData(X, example_width=None, figsize=(10, 10)):\n",
    "    \"\"\"\n",
    "    Displays 2D data stored in X in a nice grid.\n",
    "    \"\"\"\n",
    "    print(\"X shape {}\".format(X.shape))\n",
    "    print(\"X ndim {}\".format(X.ndim))\n",
    "    \n",
    "    # Compute rows, cols\n",
    "    if X.ndim == 2:\n",
    "        m, n = X.shape\n",
    "    elif X.ndim == 1:\n",
    "        n = X.size\n",
    "        m = 1\n",
    "        X = X[None]  # Promote to a 2 dimensional array\n",
    "    else:\n",
    "        raise IndexError('Input X should be 1 or 2 dimensional.')\n",
    "\n",
    "    #suppose the shape of input is m,n where m is #samples and n is #features ie 400,\n",
    "    #then the image is of the form sqrt(n)*sqrt(n)\n",
    "    \n",
    "    example_width = example_width or int(np.round(np.sqrt(n)))\n",
    "    example_height = n / example_width\n",
    "    \n",
    "    print(\"Example width {}\".format(example_width))\n",
    "    print(\"Example height {}\".format(example_height))\n",
    "\n",
    "    # Compute number of items to display\n",
    "    #Ex: if the input has shape (m,n) which is (25,400),then the number of images would be 5*5 to display \n",
    "    #with equal number of images in rows and columns\n",
    "    display_rows = int(np.floor(np.sqrt(m)))\n",
    "    display_cols = int(np.ceil(m / display_rows))\n",
    "    \n",
    "    print(\"display_rows {}\".format(display_rows))\n",
    "    print(\"display_cols {}\".format(display_cols))\n",
    "    print(\"figsize {}\".format(figsize))\n",
    "    \n",
    "    #pyplot.subplots(nRows,nColumns,sizeOfEachImg)\n",
    "    fig, ax_array = pyplot.subplots(display_rows, display_cols, figsize=figsize)\n",
    "    fig.subplots_adjust(wspace=0.025, hspace=0.025)\n",
    "\n",
    "    ax_array = [ax_array] if m == 1 else ax_array.ravel()\n",
    "\n",
    "    for i, ax in enumerate(ax_array):\n",
    "        # Display Image\n",
    "        h = ax.imshow(X[i].reshape(example_width, example_width, order='F'),\n",
    "                      cmap='Greys', extent=[0, 1, 0, 1])\n",
    "        ax.axis('off')"
   ]
  },
  {
   "cell_type": "code",
   "execution_count": 22,
   "metadata": {},
   "outputs": [
    {
     "name": "stdout",
     "output_type": "stream",
     "text": [
      "X shape (25, 400)\n",
      "X ndim 2\n",
      "Example width 20\n",
      "Example height 20.0\n",
      "display_rows 5\n",
      "display_cols 5\n",
      "figsize (10, 10)\n"
     ]
    },
    {
     "data": {
      "image/png": "[encoded data removed]",
      "text/plain": [
       "<Figure size 720x720 with 25 Axes>"
      ]
     },
     "metadata": {
      "needs_background": "light"
     },
     "output_type": "display_data"
    }
   ],
   "source": [
    "#Visualizing the hidden layer\n",
    "#Lets visualize the weights Theta1 since the ith row of Theta1 contains a 401 dim vector\n",
    "\n",
    "displayData(Theta1[:,1:])"
   ]
  }
 ],
 "metadata": {
  "kernelspec": {
   "display_name": "Python 3",
   "language": "python",
   "name": "python3"
  },
  "language_info": {
   "codemirror_mode": {
    "name": "ipython",
    "version": 3
   },
   "file_extension": ".py",
   "mimetype": "text/x-python",
   "name": "python",
   "nbconvert_exporter": "python",
   "pygments_lexer": "ipython3",
   "version": "3.5.6"
  }
 },
 "nbformat": 4,
 "nbformat_minor": 4
}
