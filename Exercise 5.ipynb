{
 "cells": [
  {
   "cell_type": "code",
   "execution_count": 1,
   "metadata": {},
   "outputs": [],
   "source": [
    "import os\n",
    "import numpy as np\n",
    "import matplotlib.pyplot as plt\n",
    "from scipy import optimize\n",
    "from scipy.io import loadmat"
   ]
  },
  {
   "cell_type": "code",
   "execution_count": 2,
   "metadata": {},
   "outputs": [
    {
     "data": {
      "image/png": "[encoded data removed]",
      "text/plain": [
       "<Figure size 432x288 with 1 Axes>"
      ]
     },
     "metadata": {
      "needs_background": "light"
     },
     "output_type": "display_data"
    }
   ],
   "source": [
    "#Regularized linear regression\n",
    "#We will visualize the data containing historical records on change in the water level x,\n",
    "#and the amount of water flowing out y from the dam.\n",
    "\n",
    "#we will form training set,cross validation set and test set and try to fit a st line using \n",
    "#linear regression to the traing data.After that we will try to fit a polynomial logistic regression to \n",
    "#better fit the data\n",
    "\n",
    "data = loadmat(os.path.join(\"C:/Users/dynam/Desktop/Coursera AndrewNg/machine-learning-ex5/machine-learning-ex5/ex5/\" + \"ex5data1.mat\"))\n",
    "X,y = data[\"X\"],data[\"y\"][:,0]\n",
    "Xtest, ytest = data['Xtest'], data['ytest'][:, 0]\n",
    "Xval, yval = data['Xval'], data['yval'][:, 0]\n",
    "\n",
    "#m = #training examples\n",
    "m = y.size\n",
    "\n",
    "#plotting traing data\n",
    "plt.plot(X,y,\"ro\",ms = 10,mec = 'k',mew = 1)\n",
    "plt.xlabel(\"Change in water level (x)\")\n",
    "plt.ylabel(\"Amnt of water flowing out (y)\")\n",
    "plt.show()"
   ]
  },
  {
   "cell_type": "code",
   "execution_count": 3,
   "metadata": {},
   "outputs": [],
   "source": [
    "def linearRegressionCostFunction(X,y,theta,lambda_ = 0.0):\n",
    "    '''\n",
    "    Compute cost and gradient for regularized linear regression with multiple variables.\n",
    "    It computes the cost for using theta as the parameter.\n",
    "    \n",
    "    X : (m,n+1)\n",
    "    y : (m,)\n",
    "    theta : (n+1,)\n",
    "    lambda_ : float : regularixation paramter\n",
    "    \n",
    "    J : float cost\n",
    "    grad : (n+1,) : derivative of cost function wrt theta\n",
    "    '''\n",
    "    \n",
    "    m = y.shape[0]\n",
    "    J = 0\n",
    "    grad = np.zeros(theta.shape)\n",
    "    hThetaOfX = np.dot(X,theta)\n",
    "    #no need of regularization for theta not term\n",
    "    J = (1/(2*m))*np.sum(np.square(hThetaOfX - y)) + (lambda_/(2*m))*np.sum(np.square(theta[1:]))\n",
    "    grad = (1/m)*np.dot((hThetaOfX-y),X)\n",
    "    grad[1:] = grad[1:] + (lambda_/m)*theta[1:]\n",
    "    return J,grad"
   ]
  },
  {
   "cell_type": "code",
   "execution_count": 4,
   "metadata": {},
   "outputs": [
    {
     "name": "stdout",
     "output_type": "stream",
     "text": [
      "Cost at theta = [1,1] is : 303.9931922202643\n",
      "Gradient at theta = [1,1] is \n",
      "[-15.30301567 598.25074417]\n"
     ]
    }
   ],
   "source": [
    "theta = np.array([1,1])\n",
    "J,grad = linearRegressionCostFunction(np.concatenate([np.ones((m,1)),X],axis = 1),y,theta,1)\n",
    "\n",
    "print(\"Cost at theta = [1,1] is : {}\".format(J))\n",
    "print(\"Gradient at theta = [1,1] is \")\n",
    "print(grad)"
   ]
  },
  {
   "cell_type": "code",
   "execution_count": 5,
   "metadata": {},
   "outputs": [],
   "source": [
    "#Next we will need to compute the optimal values of theta\n",
    "#the training function will use scipy's optimization model to minimize the cost fucntion\n",
    "#we will set lambda_ = 0 since degree od our hypothesis is 2 and regulaization will not help when degree\n",
    "#is so low\n",
    "\n",
    "def trainLinearReg(linearRegressionCostFunction,X,y,lambda_ = 0.0,maxiter = 200):\n",
    "    '''\n",
    "    Trains liner regression using scipy optimize.minimize\n",
    "    \n",
    "    X (m,n+1)\n",
    "    y (m,)\n",
    "    \n",
    "    returns : Theta (n+1,)\n",
    "    '''\n",
    "    init_theta = np.zeros(X.shape[-1])\n",
    "    \n",
    "    #create a shorthand for linear regressionCost function\n",
    "    #costFunction only takes maxiter as input\n",
    "    costFunction = lambda t: linearRegressionCostFunction(X,y,t,lambda_)\n",
    "    \n",
    "    options = {\"maxiter\" : maxiter}\n",
    "    res = optimize.minimize(costFunction,init_theta,jac=True,method=\"TNC\",options=options)\n",
    "    return res.x"
   ]
  },
  {
   "cell_type": "code",
   "execution_count": 6,
   "metadata": {},
   "outputs": [],
   "source": [
    "X_aug = np.concatenate([np.ones((m,1)),X],axis = 1)\n",
    "theta = trainLinearReg(linearRegressionCostFunction,X_aug,y,lambda_=0)"
   ]
  },
  {
   "cell_type": "code",
   "execution_count": 7,
   "metadata": {},
   "outputs": [
    {
     "data": {
      "image/png": "[encoded data removed]",
      "text/plain": [
       "<Figure size 432x288 with 1 Axes>"
      ]
     },
     "metadata": {
      "needs_background": "light"
     },
     "output_type": "display_data"
    }
   ],
   "source": [
    "#plot fit over the data\n",
    "plt.plot(X,y,\"ro\",ms = 10,mew = 1.5)\n",
    "plt.xlabel(\"Change in water level(x)\")\n",
    "plt.ylabel(\"Wtaer flowing out of the dam(y)\")\n",
    "hypothesis = np.dot(X_aug,theta)\n",
    "plt.plot(X,hypothesis,\"--\",lw = 2);"
   ]
  },
  {
   "cell_type": "code",
   "execution_count": 8,
   "metadata": {},
   "outputs": [],
   "source": [
    "\n",
    "#bias - underfit\n",
    "#variace - overfit\n",
    "\n",
    "#learning curves plot trainimg error and cross validation error as a function of the training set size\n",
    "#function LearningCurve should return a vector of errors for trainig and validation set\n",
    "#To plot learning curves,we need to calc training and cross validation set error for dofferent set sizes\n",
    "#To obtain different set sizes,we should use different subsets of original training set X\n",
    "#Training error does not include regularization term and is not calculated on the entire training set.\n",
    "#For CV error should be calculated over the entire CV set.\n",
    "\n",
    "def learningCurve(X, y, Xval, yval, lambda_=0):\n",
    "    \"\"\"\n",
    "    Generates te train and cross validation set errors needed to plot learning curve against number of\n",
    "    training data provided.\n",
    "    Returns the training and cross validation set errors.\n",
    "    \n",
    "    X (m,n+1)\n",
    "    y (m,)\n",
    "    Xval (m_val,n+1)\n",
    "    yval (m_val,)\n",
    "    \n",
    "    Returns:\n",
    "    error_train (m,) where error_train[i] corresponds to ith example training error\n",
    "    error_val : (m,) where error_val[i] corresponds to the oith example val error\n",
    "    \"\"\"\n",
    "    # Number of training examples\n",
    "    m = y.size\n",
    "\n",
    "    # You need to return these values correctly\n",
    "    error_train = np.zeros(m)\n",
    "    error_val   = np.zeros(m)\n",
    "\n",
    "    # ====================== YOUR CODE HERE ======================\n",
    "    \n",
    "    for i in range(1, m + 1):\n",
    "        #We use unregularized cost function to plot training and CV curves because\n",
    "        #the parameter theta is learned using regularization parameter.\n",
    "        #hence we don't need to include it twice again while caculating the training and val error.\n",
    "        theta_t = trainLinearReg(linearRegressionCostFunction, X[:i], y[:i], lambda_ = lambda_)\n",
    "        error_train[i - 1], _ = linearRegressionCostFunction(X[:i], y[:i], theta_t, lambda_ = 0)\n",
    "        error_val[i - 1], _ = linearRegressionCostFunction(Xval, yval, theta_t, lambda_ = 0)\n",
    "        \n",
    "    # =============================================================\n",
    "    return error_train, error_val\n",
    "    \n",
    "    "
   ]
  },
  {
   "cell_type": "code",
   "execution_count": 9,
   "metadata": {},
   "outputs": [
    {
     "data": {
      "image/png": "[encoded data removed]",
      "text/plain": [
       "<Figure size 432x288 with 1 Axes>"
      ]
     },
     "metadata": {
      "needs_background": "light"
     },
     "output_type": "display_data"
    }
   ],
   "source": [
    "#visulaize the leanring curve\n",
    "X_aug = np.concatenate([np.ones((m, 1)), X], axis=1)\n",
    "Xval_aug = np.concatenate([np.ones((yval.size, 1)), Xval], axis=1)\n",
    "\n",
    "error_train, error_val = learningCurve(X_aug, y, Xval_aug, yval, lambda_=0)\n",
    "xAxis = np.arange(1,m+1)\n",
    "plt.plot(xAxis,error_train)\n",
    "plt.plot(xAxis,error_val)\n",
    "plt.legend([\"Training\",\"CV\"])\n",
    "plt.xlabel(\"Number of iterations\")\n",
    "plt.ylabel(\"Error\")\n",
    "plt.show()"
   ]
  },
  {
   "cell_type": "code",
   "execution_count": 10,
   "metadata": {},
   "outputs": [
    {
     "data": {
      "text/plain": [
       "'As the number of samples exposed increases,it becomes tougher for the linear function to fit \\nall th data features,hence we get to know its a underfit or high bias problem.Hence we use use polynomial regression to fit the data since it can have higher degree features.\\nHence we will add more features,where the features are higher powers of the existing feature(water level).'"
      ]
     },
     "execution_count": 10,
     "metadata": {},
     "output_type": "execute_result"
    }
   ],
   "source": [
    "\"\"\"As the number of samples exposed increases,it becomes tougher for the linear function to fit \n",
    "all th data features,hence we get to know its a underfit or high bias problem.Hence we use use polynomial regression to fit the data since it can have higher degree features.\n",
    "Hence we will add more features,where the features are higher powers of the existing feature(water level).\"\"\""
   ]
  },
  {
   "cell_type": "code",
   "execution_count": 11,
   "metadata": {},
   "outputs": [],
   "source": [
    "def polyFeatures(X,p):\n",
    "    \"\"\"\n",
    "    Maps 1D feature vect X into the p-th power for polyniomial features\n",
    "    X (m,)\n",
    "    p : int\n",
    "    \n",
    "    RETURNS: \n",
    "    X_poly : (m,p) where p is the polynomial power ie :\n",
    "    X_poly[i,:] = [X[i],X[i]**2,X[i]**3 .... X[i]**p]\n",
    "    \"\"\"\n",
    "    m = X.shape[0]\n",
    "    X_poly = np.zeros((m,p))\n",
    "    for i in range(p):\n",
    "        #adding columns of polynomial power of X[:,0]\n",
    "        X_poly[:,i] = X[:,0]**(i+1)\n",
    "    return X_poly   "
   ]
  },
  {
   "cell_type": "code",
   "execution_count": 12,
   "metadata": {},
   "outputs": [],
   "source": [
    "def featureNormalize(X):\n",
    "    zhi = np.mean(X,axis = 0) #mean of features\n",
    "    X_norm = X - zhi\n",
    "    \n",
    "    #standard deviation of X_norm\n",
    "    sigma = np.std(X_norm,axis = 0,ddof = 1)\n",
    "    X_norm /= sigma\n",
    "    return X_norm,zhi,sigma\n",
    "#we use feature scaling to normalize large range of values like 40^8"
   ]
  },
  {
   "cell_type": "code",
   "execution_count": 13,
   "metadata": {},
   "outputs": [],
   "source": [
    "p = 8\n",
    "#map polynomial for train,test,validate\n",
    "X_polly = polyFeatures(X,p)\n",
    "X_polly,mu,sigma = featureNormalize(X_polly)\n",
    "X_polly = np.concatenate([np.ones((m,1)),X_polly],axis = 1)"
   ]
  },
  {
   "cell_type": "code",
   "execution_count": 14,
   "metadata": {},
   "outputs": [],
   "source": [
    "X_polly_test = polyFeatures(Xtest,p)\n",
    "X_polly_test -= mu\n",
    "X_polly_test /= sigma\n",
    "X_polly_test = np.concatenate([np.ones((ytest.size,1)),X_polly_test],axis = 1)"
   ]
  },
  {
   "cell_type": "code",
   "execution_count": 15,
   "metadata": {},
   "outputs": [],
   "source": [
    "X_polly_val = polyFeatures(Xval,p)\n",
    "X_polly_val -= mu\n",
    "X_polly_val /= sigma\n",
    "X_polly_val = np.concatenate([np.ones((ytest.size,1)),X_polly_val],axis = 1)"
   ]
  },
  {
   "cell_type": "code",
   "execution_count": 16,
   "metadata": {},
   "outputs": [
    {
     "name": "stdout",
     "output_type": "stream",
     "text": [
      "normalized Trainling Example1:\n"
     ]
    },
    {
     "data": {
      "text/plain": [
       "array([ 1.        , -0.36214078, -0.75508669,  0.18222588, -0.70618991,\n",
       "        0.30661792, -0.59087767,  0.3445158 , -0.50848117])"
      ]
     },
     "execution_count": 16,
     "metadata": {},
     "output_type": "execute_result"
    }
   ],
   "source": [
    "print(\"normalized Trainling Example1:\")\n",
    "X_polly[0,:]"
   ]
  },
  {
   "cell_type": "code",
   "execution_count": 17,
   "metadata": {},
   "outputs": [],
   "source": [
    "def plotFit(polyFeatures, min_x, max_x, mu, sigma, theta, p):\n",
    "    \"\"\"\n",
    "    Plots a learned polynomial regression fit over an existing figure.\n",
    "    Also works with linear regression.\n",
    "    Plots the learned polynomial fit with power p and feature normalization (mu, sigma).\n",
    "    Parameters\n",
    "    ----------\n",
    "    polyFeatures : func\n",
    "        A function which generators polynomial features from a single feature.\n",
    "    min_x : float\n",
    "        The minimum value for the feature.\n",
    "    max_x : float\n",
    "        The maximum value for the feature.\n",
    "    mu : float\n",
    "        The mean feature value over the training dataset.\n",
    "    sigma : float\n",
    "        The feature standard deviation of the training dataset.\n",
    "    theta : array_like\n",
    "        The parameters for the trained polynomial linear regression.\n",
    "    p : int\n",
    "        The polynomial order.\n",
    "    \"\"\"\n",
    "    # We plot a range slightly bigger than the min and max values to get\n",
    "    # an idea of how the fit will vary outside the range of the data points\n",
    "    x = np.arange(min_x - 15, max_x + 25, 0.05).reshape(-1, 1)\n",
    "\n",
    "    # Map the X values\n",
    "    X_poly = polyFeatures(x, p)\n",
    "    X_poly -= mu\n",
    "    X_poly /= sigma\n",
    "\n",
    "    # Add ones\n",
    "    X_poly = np.concatenate([np.ones((x.shape[0], 1)), X_poly], axis=1)\n",
    "\n",
    "    # we pot the hypothesis for trained parameters and new X_poly values generated\n",
    "    #between the min and max range\n",
    "    pyplot.plot(x, np.dot(X_poly, theta), '--', lw=2)"
   ]
  },
  {
   "cell_type": "code",
   "execution_count": 24,
   "metadata": {},
   "outputs": [
    {
     "data": {
      "text/plain": [
       "(-20, 50)"
      ]
     },
     "execution_count": 24,
     "metadata": {},
     "output_type": "execute_result"
    },
    {
     "data": {
      "image/png": "[encoded data removed]",
      "text/plain": [
       "<Figure size 432x288 with 1 Axes>"
      ]
     },
     "metadata": {
      "needs_background": "light"
     },
     "output_type": "display_data"
    }
   ],
   "source": [
    "#even though we have polynomial features,we are still dealing with a linear regression \n",
    "#oprtimization problem\n",
    "#if we use lambda_ = 0,then there will be overfitting.Hence we will use lambda_ = 100\n",
    "from matplotlib import pyplot\n",
    "lambda_ = 100\n",
    "theta = trainLinearReg(linearRegressionCostFunction, X_polly, y,\n",
    "                             lambda_=lambda_, maxiter=55)\n",
    "# Plot training data and fit together\n",
    "pyplot.plot(X, y, 'ro', ms=10, mew=1.5, mec='k')\n",
    "\n",
    "plotFit(polyFeatures, np.min(X), np.max(X), mu, sigma, theta, p)\n",
    "\n",
    "pyplot.xlabel('Change in water level (x)')\n",
    "pyplot.ylabel('Water flowing out of the dam (y)')\n",
    "pyplot.title('Polynomial Regression Fit (lambda = %f)' % lambda_)\n",
    "pyplot.ylim([-20, 50])"
   ]
  },
  {
   "cell_type": "code",
   "execution_count": 29,
   "metadata": {},
   "outputs": [
    {
     "data": {
      "text/plain": [
       "<matplotlib.legend.Legend at 0x1eec407d860>"
      ]
     },
     "execution_count": 29,
     "metadata": {},
     "output_type": "execute_result"
    },
    {
     "data": {
      "image/png": "[encoded data removed]",
      "text/plain": [
       "<Figure size 432x288 with 1 Axes>"
      ]
     },
     "metadata": {
      "needs_background": "light"
     },
     "output_type": "display_data"
    }
   ],
   "source": [
    "#Training and CV errors for lambda_ = 100\n",
    "pyplot.figure()\n",
    "error_train, error_val = learningCurve(X_polly, y, X_polly_val, yval, lambda_)\n",
    "pyplot.plot(np.arange(1, 1+m), error_train, np.arange(1, 1+m), error_val)\n",
    "\n",
    "pyplot.title('Polynomial Regression Learning Curve (lambda = %f)' % lambda_)\n",
    "pyplot.xlabel('Number of training examples')\n",
    "pyplot.ylabel('Error')\n",
    "pyplot.axis([0, 13, 0, 100]) #max and min values on x and y axis\n",
    "pyplot.legend(['Train', 'Cross Validation'])"
   ]
  },
  {
   "cell_type": "code",
   "execution_count": 27,
   "metadata": {},
   "outputs": [
    {
     "name": "stdout",
     "output_type": "stream",
     "text": [
      "Polynomial Regression (lambda = 100.000000)\n",
      "\n",
      "# Training Examples\tTrain Error\tCross Validation Error\n",
      "  \t1\t\t0.000000\t138.846777\n",
      "  \t2\t\t0.114107\t144.125230\n",
      "  \t3\t\t106.956580\t70.863286\n",
      "  \t4\t\t121.740879\t78.372963\n",
      "  \t5\t\t102.949459\t63.845046\n",
      "  \t6\t\t97.169857\t59.532632\n",
      "  \t7\t\t83.326539\t59.585493\n",
      "  \t8\t\t76.491825\t58.699842\n",
      "  \t9\t\t71.297176\t59.564455\n",
      "  \t10\t\t64.350636\t59.731344\n",
      "  \t11\t\t58.997943\t60.409869\n",
      "  \t12\t\t57.977080\t57.842195\n"
     ]
    }
   ],
   "source": [
    "print('Polynomial Regression (lambda = %f)\\n' % lambda_)\n",
    "print('# Training Examples\\tTrain Error\\tCross Validation Error')\n",
    "for i in range(m):\n",
    "    print('  \\t%d\\t\\t%f\\t%f' % (i+1, error_train[i], error_val[i]))"
   ]
  },
  {
   "cell_type": "code",
   "execution_count": 38,
   "metadata": {},
   "outputs": [],
   "source": [
    "#Now we will see how the regularization parameter affects the bias-variance of regularized \n",
    "#polynomial regression.We will try lambda_ = 1,100.\n",
    "#For lambda_ = 1 it will have good trade-off between high bias and high variance.\n",
    "#Let us use a CV set to select a good lambda_ value\n",
    "#after selecting a good lambda_ value we can use the test set to see how well it generalizes on \n",
    "#test data set\n",
    "\n",
    "def validationCurve(X,y,Xval,yval):\n",
    "    '''\n",
    "    Generates a trnng and validation errors for selected lambda_.\n",
    "    X (m,n) where n is the # parameters including the olynomial features\n",
    "    y (m,)\n",
    "    Xval (mval,n)\n",
    "    yval (m_val)\n",
    "\n",
    "    '''\n",
    "    \n",
    "    lambda_vec = [0, 0.001, 0.003, 0.01, 0.03, 0.1, 0.3, 1, 3, 10]\n",
    "    \n",
    "    error_train = np.zeros(len(lambda_vec))\n",
    "    error_val = np.zeros(len(lambda_vec))\n",
    "    \n",
    "    for i in range(len(lambda_vec)):\n",
    "        lambda_try = lambda_vec[i]\n",
    "        #calculate ptraining parameter for each lambda_ value\n",
    "        theta_try = trainLinearReg(linearRegressionCostFunction,X,y,lambda_=lambda_try)\n",
    "        \n",
    "        #lambda_ = 0 as we have found out theta_Try using a aprticluar lambda_ value\n",
    "        error_train[i],_ = linearRegressionCostFunction(X,y,theta_try,lambda_ = 0)\n",
    "        error_val[i],_ = linearRegressionCostFunction(Xval,yval,theta_try,lambda_ = 0)\n",
    "    return lambda_vec,error_train,error_val"
   ]
  },
  {
   "cell_type": "code",
   "execution_count": 39,
   "metadata": {},
   "outputs": [
    {
     "data": {
      "image/png": "[encoded data removed]",
      "text/plain": [
       "<Figure size 432x288 with 1 Axes>"
      ]
     },
     "metadata": {
      "needs_background": "light"
     },
     "output_type": "display_data"
    }
   ],
   "source": [
    "#run the function to get error of training and val over dofferent lambda_ values\n",
    "lambda_vec,error_train,error_val = validationCurve(X_polly,y,X_polly_val,yval)\n",
    "pyplot.plot(lambda_vec,error_train,label = \"training err\")\n",
    "pyplot.plot(lambda_vec,error_val,label = \"CV error\")\n",
    "pyplot.xlabel(\"lambda values\")\n",
    "pyplot.ylabel(\"errors\")\n",
    "pyplot.legend()\n",
    "plt.show()"
   ]
  },
  {
   "cell_type": "code",
   "execution_count": 36,
   "metadata": {},
   "outputs": [
    {
     "name": "stdout",
     "output_type": "stream",
     "text": [
      "lambda\t\tTrain Error\tValidation Error\n",
      " 0.000000\t0.029686\t0.029686\n",
      " 0.001000\t0.112684\t0.112684\n",
      " 0.003000\t0.170937\t0.170937\n",
      " 0.010000\t0.221505\t0.221505\n",
      " 0.030000\t0.281840\t0.281840\n",
      " 0.100000\t0.459324\t0.459324\n",
      " 0.300000\t0.921763\t0.921763\n",
      " 1.000000\t2.076201\t2.076201\n",
      " 3.000000\t4.901371\t4.901371\n",
      " 10.000000\t16.092273\t16.092273\n"
     ]
    }
   ],
   "source": [
    "#values of training and val idation errors\n",
    "\n",
    "print('lambda\\t\\tTrain Error\\tValidation Error')\n",
    "for i in range(len(lambda_vec)):\n",
    "    print(' %f\\t%f\\t%f' % (lambda_vec[i], error_train[i], error_val[i]))"
   ]
  },
  {
   "cell_type": "code",
   "execution_count": null,
   "metadata": {},
   "outputs": [],
   "source": [
    "#Now we will evaluate the model with different lambda_ values on the test set\n",
    "#to see how it generalizes on unseen data\n",
    "#hence we need to test the model against the test data as its not used for determining the reg term\n",
    "#lambda_ nor it is used for training the paramter theta"
   ]
  }
 ],
 "metadata": {
  "kernelspec": {
   "display_name": "Python 3",
   "language": "python",
   "name": "python3"
  },
  "language_info": {
   "codemirror_mode": {
    "name": "ipython",
    "version": 3
   },
   "file_extension": ".py",
   "mimetype": "text/x-python",
   "name": "python",
   "nbconvert_exporter": "python",
   "pygments_lexer": "ipython3",
   "version": "3.5.6"
  }
 },
 "nbformat": 4,
 "nbformat_minor": 4
}
